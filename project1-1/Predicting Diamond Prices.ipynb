{
 "cells": [
  {
   "cell_type": "code",
   "execution_count": 302,
   "metadata": {
    "collapsed": true
   },
   "outputs": [],
   "source": [
    "import numpy as np\n",
    "import pandas as pd\n",
    "import matplotlib.pyplot as plt\n",
    "%matplotlib inline\n",
    "import seaborn as sns"
   ]
  },
  {
   "cell_type": "code",
   "execution_count": 303,
   "metadata": {
    "collapsed": false
   },
   "outputs": [],
   "source": [
    "def preprocess_data(df, color_mapping):\n",
    "    df['color'] = df['color'].apply(lambda x: color_mapping.keys()[color_mapping.values().index(x)])\n",
    "    X = df[['carat', 'cut_ord', 'clarity_ord']]\n",
    "    try:\n",
    "        y = df['price']\n",
    "        return X, y\n",
    "    except:\n",
    "        return X"
   ]
  },
  {
   "cell_type": "code",
   "execution_count": 304,
   "metadata": {
    "collapsed": false
   },
   "outputs": [],
   "source": [
    "df_train = pd.read_csv('diamonds.csv', index_col=0)\n",
    "df_test = pd.read_csv('new-diamonds.csv')"
   ]
  },
  {
   "cell_type": "code",
   "execution_count": 305,
   "metadata": {
    "collapsed": false
   },
   "outputs": [
    {
     "data": {
      "text/html": [
       "<div>\n",
       "<table border=\"1\" class=\"dataframe\">\n",
       "  <thead>\n",
       "    <tr style=\"text-align: right;\">\n",
       "      <th></th>\n",
       "      <th>carat</th>\n",
       "      <th>cut</th>\n",
       "      <th>cut_ord</th>\n",
       "      <th>color</th>\n",
       "      <th>clarity</th>\n",
       "      <th>clarity_ord</th>\n",
       "      <th>price</th>\n",
       "    </tr>\n",
       "  </thead>\n",
       "  <tbody>\n",
       "    <tr>\n",
       "      <th>1</th>\n",
       "      <td>0.51</td>\n",
       "      <td>Premium</td>\n",
       "      <td>4</td>\n",
       "      <td>F</td>\n",
       "      <td>VS1</td>\n",
       "      <td>4</td>\n",
       "      <td>1749</td>\n",
       "    </tr>\n",
       "    <tr>\n",
       "      <th>2</th>\n",
       "      <td>2.25</td>\n",
       "      <td>Fair</td>\n",
       "      <td>1</td>\n",
       "      <td>G</td>\n",
       "      <td>I1</td>\n",
       "      <td>1</td>\n",
       "      <td>7069</td>\n",
       "    </tr>\n",
       "    <tr>\n",
       "      <th>3</th>\n",
       "      <td>0.70</td>\n",
       "      <td>Very Good</td>\n",
       "      <td>3</td>\n",
       "      <td>E</td>\n",
       "      <td>VS2</td>\n",
       "      <td>5</td>\n",
       "      <td>2757</td>\n",
       "    </tr>\n",
       "    <tr>\n",
       "      <th>4</th>\n",
       "      <td>0.47</td>\n",
       "      <td>Good</td>\n",
       "      <td>2</td>\n",
       "      <td>F</td>\n",
       "      <td>VS1</td>\n",
       "      <td>4</td>\n",
       "      <td>1243</td>\n",
       "    </tr>\n",
       "    <tr>\n",
       "      <th>5</th>\n",
       "      <td>0.30</td>\n",
       "      <td>Ideal</td>\n",
       "      <td>5</td>\n",
       "      <td>G</td>\n",
       "      <td>VVS1</td>\n",
       "      <td>7</td>\n",
       "      <td>789</td>\n",
       "    </tr>\n",
       "  </tbody>\n",
       "</table>\n",
       "</div>"
      ],
      "text/plain": [
       "   carat        cut  cut_ord color clarity  clarity_ord  price\n",
       "1   0.51    Premium        4     F     VS1            4   1749\n",
       "2   2.25       Fair        1     G      I1            1   7069\n",
       "3   0.70  Very Good        3     E     VS2            5   2757\n",
       "4   0.47       Good        2     F     VS1            4   1243\n",
       "5   0.30      Ideal        5     G    VVS1            7    789"
      ]
     },
     "execution_count": 305,
     "metadata": {},
     "output_type": "execute_result"
    }
   ],
   "source": [
    "df_train.head()"
   ]
  },
  {
   "cell_type": "code",
   "execution_count": 306,
   "metadata": {
    "collapsed": false
   },
   "outputs": [],
   "source": [
    "i = 1\n",
    "color_mapping = dict()\n",
    "for val in pd.unique(sorted(df_train['color'])).tolist():\n",
    "    color_mapping[i] = val\n",
    "    i += 1"
   ]
  },
  {
   "cell_type": "code",
   "execution_count": 307,
   "metadata": {
    "collapsed": false
   },
   "outputs": [
    {
     "name": "stdout",
     "output_type": "stream",
     "text": [
      "{1L: 'I1', 2L: 'SI2', 3L: 'SI1', 4L: 'VS1', 5L: 'VS2', 6L: 'VVS2', 7L: 'VVS1', 8L: 'IF'}\n",
      "{1L: 'Fair', 2L: 'Good', 3L: 'Very Good', 4L: 'Premium', 5L: 'Ideal'}\n"
     ]
    }
   ],
   "source": [
    "clarity_mapping = dict()\n",
    "cut_mapping = dict()\n",
    "for val in pd.unique(df_train[['clarity', 'clarity_ord']].values):\n",
    "    clarity_mapping[val[1]] = val[0]\n",
    "for val in pd.unique(df_train[['cut', 'cut_ord']].values):\n",
    "    cut_mapping[val[1]] = val[0]\n",
    "print clarity_mapping\n",
    "print cut_mapping"
   ]
  },
  {
   "cell_type": "code",
   "execution_count": 308,
   "metadata": {
    "collapsed": false
   },
   "outputs": [],
   "source": [
    "X_train, y_train = preprocess_data(df_train, color_mapping)\n",
    "X_new = preprocess_data(df_test, color_mapping)"
   ]
  },
  {
   "cell_type": "code",
   "execution_count": 309,
   "metadata": {
    "collapsed": false
   },
   "outputs": [],
   "source": [
    "from sklearn.linear_model import LinearRegression"
   ]
  },
  {
   "cell_type": "code",
   "execution_count": 310,
   "metadata": {
    "collapsed": true
   },
   "outputs": [],
   "source": [
    "reg = LinearRegression()"
   ]
  },
  {
   "cell_type": "code",
   "execution_count": 311,
   "metadata": {
    "collapsed": true
   },
   "outputs": [],
   "source": [
    "from sklearn.model_selection import train_test_split"
   ]
  },
  {
   "cell_type": "code",
   "execution_count": 312,
   "metadata": {
    "collapsed": false
   },
   "outputs": [],
   "source": [
    "X_train, X_test, y_train, y_test = train_test_split(X_train, Y_train, test_size=0.33, random_state=42)"
   ]
  },
  {
   "cell_type": "code",
   "execution_count": 313,
   "metadata": {
    "collapsed": false,
    "scrolled": true
   },
   "outputs": [
    {
     "data": {
      "text/plain": [
       "LinearRegression(copy_X=True, fit_intercept=True, n_jobs=1, normalize=False)"
      ]
     },
     "execution_count": 313,
     "metadata": {},
     "output_type": "execute_result"
    }
   ],
   "source": [
    "reg.fit(X_train, y_train)"
   ]
  },
  {
   "cell_type": "code",
   "execution_count": 314,
   "metadata": {
    "collapsed": true
   },
   "outputs": [],
   "source": [
    "y_pred = reg.predict(X_test)"
   ]
  },
  {
   "cell_type": "code",
   "execution_count": 315,
   "metadata": {
    "collapsed": false
   },
   "outputs": [
    {
     "data": {
      "text/plain": [
       "0.88523739233589049"
      ]
     },
     "execution_count": 315,
     "metadata": {},
     "output_type": "execute_result"
    }
   ],
   "source": [
    "from sklearn.metrics import r2_score\n",
    "r2_score(y_test, y_pred)"
   ]
  },
  {
   "cell_type": "code",
   "execution_count": 316,
   "metadata": {
    "collapsed": false
   },
   "outputs": [
    {
     "data": {
      "text/plain": [
       "<matplotlib.collections.PathCollection at 0x2eaa9780>"
      ]
     },
     "execution_count": 316,
     "metadata": {},
     "output_type": "execute_result"
    },
    {
     "data": {
      "image/png": "[encoded data removed]",
      "text/plain": [
       "<matplotlib.figure.Figure at 0x169fb240>"
      ]
     },
     "metadata": {},
     "output_type": "display_data"
    }
   ],
   "source": [
    "plt.scatter(x=y_pred, y=y_test)"
   ]
  },
  {
   "cell_type": "code",
   "execution_count": 317,
   "metadata": {
    "collapsed": false
   },
   "outputs": [],
   "source": [
    "from sklearn.metrics import mean_squared_error, mean_absolute_error"
   ]
  },
  {
   "cell_type": "code",
   "execution_count": 318,
   "metadata": {
    "collapsed": false
   },
   "outputs": [
    {
     "name": "stdout",
     "output_type": "stream",
     "text": [
      "MSE: 1766439.67516\n",
      "MAE: 899.579188088\n"
     ]
    }
   ],
   "source": [
    "print 'MSE: {}'.format(mean_squared_error(y_test, y_pred))\n",
    "print 'MAE: {}'.format(mean_absolute_error(y_test, y_pred))"
   ]
  },
  {
   "cell_type": "code",
   "execution_count": 336,
   "metadata": {
    "collapsed": false
   },
   "outputs": [
    {
     "data": {
      "text/html": [
       "<div>\n",
       "<table border=\"1\" class=\"dataframe\">\n",
       "  <thead>\n",
       "    <tr style=\"text-align: right;\">\n",
       "      <th></th>\n",
       "      <th>Unnamed: 0</th>\n",
       "      <th>carat</th>\n",
       "      <th>cut</th>\n",
       "      <th>cut_ord</th>\n",
       "      <th>color</th>\n",
       "      <th>clarity</th>\n",
       "      <th>clarity_ord</th>\n",
       "      <th>predicted_price</th>\n",
       "    </tr>\n",
       "  </thead>\n",
       "  <tbody>\n",
       "    <tr>\n",
       "      <th>0</th>\n",
       "      <td>1</td>\n",
       "      <td>1.22</td>\n",
       "      <td>Premium</td>\n",
       "      <td>4</td>\n",
       "      <td>4</td>\n",
       "      <td>SI1</td>\n",
       "      <td>3</td>\n",
       "      <td>6979.215480</td>\n",
       "    </tr>\n",
       "    <tr>\n",
       "      <th>1</th>\n",
       "      <td>2</td>\n",
       "      <td>1.01</td>\n",
       "      <td>Good</td>\n",
       "      <td>2</td>\n",
       "      <td>4</td>\n",
       "      <td>VS2</td>\n",
       "      <td>5</td>\n",
       "      <td>5830.034667</td>\n",
       "    </tr>\n",
       "    <tr>\n",
       "      <th>2</th>\n",
       "      <td>3</td>\n",
       "      <td>0.71</td>\n",
       "      <td>Very Good</td>\n",
       "      <td>3</td>\n",
       "      <td>6</td>\n",
       "      <td>VS2</td>\n",
       "      <td>5</td>\n",
       "      <td>3465.268947</td>\n",
       "    </tr>\n",
       "    <tr>\n",
       "      <th>3</th>\n",
       "      <td>4</td>\n",
       "      <td>1.01</td>\n",
       "      <td>Ideal</td>\n",
       "      <td>5</td>\n",
       "      <td>1</td>\n",
       "      <td>SI2</td>\n",
       "      <td>2</td>\n",
       "      <td>4911.425806</td>\n",
       "    </tr>\n",
       "    <tr>\n",
       "      <th>4</th>\n",
       "      <td>5</td>\n",
       "      <td>0.27</td>\n",
       "      <td>Ideal</td>\n",
       "      <td>5</td>\n",
       "      <td>5</td>\n",
       "      <td>VVS2</td>\n",
       "      <td>6</td>\n",
       "      <td>535.888508</td>\n",
       "    </tr>\n",
       "  </tbody>\n",
       "</table>\n",
       "</div>"
      ],
      "text/plain": [
       "   Unnamed: 0  carat        cut  cut_ord  color clarity  clarity_ord  \\\n",
       "0           1   1.22    Premium        4      4     SI1            3   \n",
       "1           2   1.01       Good        2      4     VS2            5   \n",
       "2           3   0.71  Very Good        3      6     VS2            5   \n",
       "3           4   1.01      Ideal        5      1     SI2            2   \n",
       "4           5   0.27      Ideal        5      5    VVS2            6   \n",
       "\n",
       "   predicted_price  \n",
       "0      6979.215480  \n",
       "1      5830.034667  \n",
       "2      3465.268947  \n",
       "3      4911.425806  \n",
       "4       535.888508  "
      ]
     },
     "execution_count": 336,
     "metadata": {},
     "output_type": "execute_result"
    }
   ],
   "source": [
    "y_new = pd.DataFrame(reg.predict(X_new), columns=['predicted_price'])\n",
    "df_test = df_test.join(y_new)\n",
    "df_test.head()"
   ]
  },
  {
   "cell_type": "code",
   "execution_count": 328,
   "metadata": {
    "collapsed": false
   },
   "outputs": [
    {
     "data": {
      "text/plain": [
       "array([1749, 7069, 2757, ..., 6619, 6787, 9428], dtype=int64)"
      ]
     },
     "execution_count": 328,
     "metadata": {},
     "output_type": "execute_result"
    }
   ],
   "source": []
  },
  {
   "cell_type": "code",
   "execution_count": 340,
   "metadata": {
    "collapsed": false
   },
   "outputs": [
    {
     "data": {
      "text/plain": [
       "<matplotlib.axes._subplots.AxesSubplot at 0x35eaec18>"
      ]
     },
     "execution_count": 340,
     "metadata": {},
     "output_type": "execute_result"
    },
    {
     "data": {
      "image/png": "[encoded data removed]",
      "text/plain": [
       "<matplotlib.figure.Figure at 0x35c50c50>"
      ]
     },
     "metadata": {},
     "output_type": "display_data"
    },
    {
     "data": {
      "image/png": "[encoded data removed]",
      "text/plain": [
       "<matplotlib.figure.Figure at 0x30285630>"
      ]
     },
     "metadata": {},
     "output_type": "display_data"
    }
   ],
   "source": [
    "df_train.plot(kind='scatter', x='carat', y='price', xlim=[0,5], ylim=[0,20000])\n",
    "df_test.plot(kind='scatter', x='carat', y='predicted_price', xlim=[0,5], ylim=[0,20000])"
   ]
  },
  {
   "cell_type": "code",
   "execution_count": 321,
   "metadata": {
    "collapsed": false
   },
   "outputs": [
    {
     "name": "stdout",
     "output_type": "stream",
     "text": [
      "[ 8388.50819198   151.78673723   457.98969103]\n",
      "-5235.88053647\n"
     ]
    }
   ],
   "source": [
    "print reg.coef_\n",
    "print reg.intercept_"
   ]
  },
  {
   "cell_type": "code",
   "execution_count": null,
   "metadata": {
    "collapsed": true
   },
   "outputs": [],
   "source": []
  },
  {
   "cell_type": "code",
   "execution_count": null,
   "metadata": {
    "collapsed": false
   },
   "outputs": [],
   "source": []
  },
  {
   "cell_type": "code",
   "execution_count": null,
   "metadata": {
    "collapsed": true
   },
   "outputs": [],
   "source": []
  }
 ],
 "metadata": {
  "kernelspec": {
   "display_name": "Python 2",
   "language": "python",
   "name": "python2"
  },
  "language_info": {
   "codemirror_mode": {
    "name": "ipython",
    "version": 2
   },
   "file_extension": ".py",
   "mimetype": "text/x-python",
   "name": "python",
   "nbconvert_exporter": "python",
   "pygments_lexer": "ipython2",
   "version": "2.7.13"
  }
 },
 "nbformat": 4,
 "nbformat_minor": 2
}

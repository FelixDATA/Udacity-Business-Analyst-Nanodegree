{
 "cells": [
  {
   "cell_type": "code",
   "execution_count": 1,
   "metadata": {
    "collapsed": true
   },
   "outputs": [],
   "source": [
    "import numpy as np\n",
    "import pandas as pd\n",
    "import matplotlib.pyplot as plt\n",
    "import seaborn as sns\n",
    "%matplotlib inline"
   ]
  },
  {
   "cell_type": "code",
   "execution_count": 2,
   "metadata": {
    "collapsed": false
   },
   "outputs": [
    {
     "data": {
      "text/html": [
       "<div>\n",
       "<table border=\"1\" class=\"dataframe\">\n",
       "  <thead>\n",
       "    <tr style=\"text-align: right;\">\n",
       "      <th></th>\n",
       "      <th>Credit-Application-Result</th>\n",
       "      <th>Account-Balance</th>\n",
       "      <th>Duration-of-Credit-Month</th>\n",
       "      <th>Payment-Status-of-Previous-Credit</th>\n",
       "      <th>Purpose</th>\n",
       "      <th>Credit-Amount</th>\n",
       "      <th>Value-Savings-Stocks</th>\n",
       "      <th>Length-of-current-employment</th>\n",
       "      <th>Instalment-per-cent</th>\n",
       "      <th>Guarantors</th>\n",
       "      <th>Duration-in-Current-address</th>\n",
       "      <th>Most-valuable-available-asset</th>\n",
       "      <th>Age-years</th>\n",
       "      <th>Concurrent-Credits</th>\n",
       "      <th>Type-of-apartment</th>\n",
       "      <th>No-of-Credits-at-this-Bank</th>\n",
       "      <th>Occupation</th>\n",
       "      <th>No-of-dependents</th>\n",
       "      <th>Telephone</th>\n",
       "      <th>Foreign-Worker</th>\n",
       "    </tr>\n",
       "  </thead>\n",
       "  <tbody>\n",
       "    <tr>\n",
       "      <th>0</th>\n",
       "      <td>Creditworthy</td>\n",
       "      <td>Some Balance</td>\n",
       "      <td>4</td>\n",
       "      <td>Paid Up</td>\n",
       "      <td>Other</td>\n",
       "      <td>1494</td>\n",
       "      <td>£100-£1000</td>\n",
       "      <td>&lt; 1yr</td>\n",
       "      <td>1</td>\n",
       "      <td>None</td>\n",
       "      <td>2.0</td>\n",
       "      <td>1</td>\n",
       "      <td>NaN</td>\n",
       "      <td>Other Banks/Depts</td>\n",
       "      <td>2</td>\n",
       "      <td>1</td>\n",
       "      <td>1</td>\n",
       "      <td>2</td>\n",
       "      <td>1</td>\n",
       "      <td>2</td>\n",
       "    </tr>\n",
       "    <tr>\n",
       "      <th>1</th>\n",
       "      <td>Creditworthy</td>\n",
       "      <td>Some Balance</td>\n",
       "      <td>4</td>\n",
       "      <td>Paid Up</td>\n",
       "      <td>Home Related</td>\n",
       "      <td>1494</td>\n",
       "      <td>£100-£1000</td>\n",
       "      <td>&lt; 1yr</td>\n",
       "      <td>1</td>\n",
       "      <td>None</td>\n",
       "      <td>2.0</td>\n",
       "      <td>1</td>\n",
       "      <td>29.0</td>\n",
       "      <td>Other Banks/Depts</td>\n",
       "      <td>2</td>\n",
       "      <td>1</td>\n",
       "      <td>1</td>\n",
       "      <td>2</td>\n",
       "      <td>1</td>\n",
       "      <td>2</td>\n",
       "    </tr>\n",
       "    <tr>\n",
       "      <th>2</th>\n",
       "      <td>Creditworthy</td>\n",
       "      <td>Some Balance</td>\n",
       "      <td>4</td>\n",
       "      <td>No Problems (in this bank)</td>\n",
       "      <td>Home Related</td>\n",
       "      <td>1544</td>\n",
       "      <td>None</td>\n",
       "      <td>1-4 yrs</td>\n",
       "      <td>2</td>\n",
       "      <td>None</td>\n",
       "      <td>1.0</td>\n",
       "      <td>1</td>\n",
       "      <td>42.0</td>\n",
       "      <td>Other Banks/Depts</td>\n",
       "      <td>2</td>\n",
       "      <td>More than 1</td>\n",
       "      <td>1</td>\n",
       "      <td>2</td>\n",
       "      <td>1</td>\n",
       "      <td>1</td>\n",
       "    </tr>\n",
       "    <tr>\n",
       "      <th>3</th>\n",
       "      <td>Creditworthy</td>\n",
       "      <td>Some Balance</td>\n",
       "      <td>4</td>\n",
       "      <td>No Problems (in this bank)</td>\n",
       "      <td>Home Related</td>\n",
       "      <td>3380</td>\n",
       "      <td>None</td>\n",
       "      <td>1-4 yrs</td>\n",
       "      <td>1</td>\n",
       "      <td>None</td>\n",
       "      <td>1.0</td>\n",
       "      <td>1</td>\n",
       "      <td>37.0</td>\n",
       "      <td>Other Banks/Depts</td>\n",
       "      <td>2</td>\n",
       "      <td>1</td>\n",
       "      <td>1</td>\n",
       "      <td>2</td>\n",
       "      <td>1</td>\n",
       "      <td>1</td>\n",
       "    </tr>\n",
       "    <tr>\n",
       "      <th>4</th>\n",
       "      <td>Creditworthy</td>\n",
       "      <td>No Account</td>\n",
       "      <td>6</td>\n",
       "      <td>Paid Up</td>\n",
       "      <td>Home Related</td>\n",
       "      <td>343</td>\n",
       "      <td>None</td>\n",
       "      <td>&lt; 1yr</td>\n",
       "      <td>4</td>\n",
       "      <td>None</td>\n",
       "      <td>1.0</td>\n",
       "      <td>1</td>\n",
       "      <td>27.0</td>\n",
       "      <td>Other Banks/Depts</td>\n",
       "      <td>2</td>\n",
       "      <td>1</td>\n",
       "      <td>1</td>\n",
       "      <td>1</td>\n",
       "      <td>1</td>\n",
       "      <td>1</td>\n",
       "    </tr>\n",
       "  </tbody>\n",
       "</table>\n",
       "</div>"
      ],
      "text/plain": [
       "  Credit-Application-Result Account-Balance  Duration-of-Credit-Month  \\\n",
       "0              Creditworthy    Some Balance                         4   \n",
       "1              Creditworthy    Some Balance                         4   \n",
       "2              Creditworthy    Some Balance                         4   \n",
       "3              Creditworthy    Some Balance                         4   \n",
       "4              Creditworthy      No Account                         6   \n",
       "\n",
       "  Payment-Status-of-Previous-Credit       Purpose  Credit-Amount  \\\n",
       "0                           Paid Up         Other           1494   \n",
       "1                           Paid Up  Home Related           1494   \n",
       "2        No Problems (in this bank)  Home Related           1544   \n",
       "3        No Problems (in this bank)  Home Related           3380   \n",
       "4                           Paid Up  Home Related            343   \n",
       "\n",
       "  Value-Savings-Stocks Length-of-current-employment  Instalment-per-cent  \\\n",
       "0           £100-£1000                        < 1yr                    1   \n",
       "1           £100-£1000                        < 1yr                    1   \n",
       "2                 None                      1-4 yrs                    2   \n",
       "3                 None                      1-4 yrs                    1   \n",
       "4                 None                        < 1yr                    4   \n",
       "\n",
       "  Guarantors  Duration-in-Current-address  Most-valuable-available-asset  \\\n",
       "0       None                          2.0                              1   \n",
       "1       None                          2.0                              1   \n",
       "2       None                          1.0                              1   \n",
       "3       None                          1.0                              1   \n",
       "4       None                          1.0                              1   \n",
       "\n",
       "   Age-years Concurrent-Credits  Type-of-apartment No-of-Credits-at-this-Bank  \\\n",
       "0        NaN  Other Banks/Depts                  2                          1   \n",
       "1       29.0  Other Banks/Depts                  2                          1   \n",
       "2       42.0  Other Banks/Depts                  2                More than 1   \n",
       "3       37.0  Other Banks/Depts                  2                          1   \n",
       "4       27.0  Other Banks/Depts                  2                          1   \n",
       "\n",
       "   Occupation  No-of-dependents  Telephone  Foreign-Worker  \n",
       "0           1                 2          1               2  \n",
       "1           1                 2          1               2  \n",
       "2           1                 2          1               1  \n",
       "3           1                 2          1               1  \n",
       "4           1                 1          1               1  "
      ]
     },
     "execution_count": 2,
     "metadata": {},
     "output_type": "execute_result"
    }
   ],
   "source": [
    "df_train = pd.read_excel('credit-data-training (3).xlsx')\n",
    "df_train.head()"
   ]
  },
  {
   "cell_type": "code",
   "execution_count": 3,
   "metadata": {
    "collapsed": false
   },
   "outputs": [
    {
     "data": {
      "text/html": [
       "<div>\n",
       "<table border=\"1\" class=\"dataframe\">\n",
       "  <thead>\n",
       "    <tr style=\"text-align: right;\">\n",
       "      <th></th>\n",
       "      <th>Duration-of-Credit-Month</th>\n",
       "      <th>Credit-Amount</th>\n",
       "      <th>Instalment-per-cent</th>\n",
       "      <th>Duration-in-Current-address</th>\n",
       "      <th>Most-valuable-available-asset</th>\n",
       "      <th>Age-years</th>\n",
       "      <th>Type-of-apartment</th>\n",
       "      <th>Occupation</th>\n",
       "      <th>No-of-dependents</th>\n",
       "      <th>Telephone</th>\n",
       "      <th>Foreign-Worker</th>\n",
       "    </tr>\n",
       "  </thead>\n",
       "  <tbody>\n",
       "    <tr>\n",
       "      <th>count</th>\n",
       "      <td>500.00000</td>\n",
       "      <td>500.000000</td>\n",
       "      <td>500.000000</td>\n",
       "      <td>156.000000</td>\n",
       "      <td>500.000000</td>\n",
       "      <td>488.000000</td>\n",
       "      <td>500.000000</td>\n",
       "      <td>500.0</td>\n",
       "      <td>500.00000</td>\n",
       "      <td>500.000000</td>\n",
       "      <td>500.000000</td>\n",
       "    </tr>\n",
       "    <tr>\n",
       "      <th>mean</th>\n",
       "      <td>21.43400</td>\n",
       "      <td>3199.980000</td>\n",
       "      <td>3.010000</td>\n",
       "      <td>2.660256</td>\n",
       "      <td>2.360000</td>\n",
       "      <td>35.637295</td>\n",
       "      <td>1.928000</td>\n",
       "      <td>1.0</td>\n",
       "      <td>1.14600</td>\n",
       "      <td>1.400000</td>\n",
       "      <td>1.038000</td>\n",
       "    </tr>\n",
       "    <tr>\n",
       "      <th>std</th>\n",
       "      <td>12.30742</td>\n",
       "      <td>2831.386861</td>\n",
       "      <td>1.113724</td>\n",
       "      <td>1.150017</td>\n",
       "      <td>1.064268</td>\n",
       "      <td>11.501522</td>\n",
       "      <td>0.539814</td>\n",
       "      <td>0.0</td>\n",
       "      <td>0.35346</td>\n",
       "      <td>0.490389</td>\n",
       "      <td>0.191388</td>\n",
       "    </tr>\n",
       "    <tr>\n",
       "      <th>min</th>\n",
       "      <td>4.00000</td>\n",
       "      <td>276.000000</td>\n",
       "      <td>1.000000</td>\n",
       "      <td>1.000000</td>\n",
       "      <td>1.000000</td>\n",
       "      <td>19.000000</td>\n",
       "      <td>1.000000</td>\n",
       "      <td>1.0</td>\n",
       "      <td>1.00000</td>\n",
       "      <td>1.000000</td>\n",
       "      <td>1.000000</td>\n",
       "    </tr>\n",
       "    <tr>\n",
       "      <th>25%</th>\n",
       "      <td>12.00000</td>\n",
       "      <td>1357.250000</td>\n",
       "      <td>2.000000</td>\n",
       "      <td>2.000000</td>\n",
       "      <td>1.000000</td>\n",
       "      <td>27.000000</td>\n",
       "      <td>2.000000</td>\n",
       "      <td>1.0</td>\n",
       "      <td>1.00000</td>\n",
       "      <td>1.000000</td>\n",
       "      <td>1.000000</td>\n",
       "    </tr>\n",
       "    <tr>\n",
       "      <th>50%</th>\n",
       "      <td>18.00000</td>\n",
       "      <td>2236.500000</td>\n",
       "      <td>3.000000</td>\n",
       "      <td>2.000000</td>\n",
       "      <td>3.000000</td>\n",
       "      <td>33.000000</td>\n",
       "      <td>2.000000</td>\n",
       "      <td>1.0</td>\n",
       "      <td>1.00000</td>\n",
       "      <td>1.000000</td>\n",
       "      <td>1.000000</td>\n",
       "    </tr>\n",
       "    <tr>\n",
       "      <th>75%</th>\n",
       "      <td>24.00000</td>\n",
       "      <td>3941.500000</td>\n",
       "      <td>4.000000</td>\n",
       "      <td>4.000000</td>\n",
       "      <td>3.000000</td>\n",
       "      <td>42.000000</td>\n",
       "      <td>2.000000</td>\n",
       "      <td>1.0</td>\n",
       "      <td>1.00000</td>\n",
       "      <td>2.000000</td>\n",
       "      <td>1.000000</td>\n",
       "    </tr>\n",
       "    <tr>\n",
       "      <th>max</th>\n",
       "      <td>60.00000</td>\n",
       "      <td>18424.000000</td>\n",
       "      <td>4.000000</td>\n",
       "      <td>4.000000</td>\n",
       "      <td>4.000000</td>\n",
       "      <td>75.000000</td>\n",
       "      <td>3.000000</td>\n",
       "      <td>1.0</td>\n",
       "      <td>2.00000</td>\n",
       "      <td>2.000000</td>\n",
       "      <td>2.000000</td>\n",
       "    </tr>\n",
       "  </tbody>\n",
       "</table>\n",
       "</div>"
      ],
      "text/plain": [
       "       Duration-of-Credit-Month  Credit-Amount  Instalment-per-cent  \\\n",
       "count                 500.00000     500.000000           500.000000   \n",
       "mean                   21.43400    3199.980000             3.010000   \n",
       "std                    12.30742    2831.386861             1.113724   \n",
       "min                     4.00000     276.000000             1.000000   \n",
       "25%                    12.00000    1357.250000             2.000000   \n",
       "50%                    18.00000    2236.500000             3.000000   \n",
       "75%                    24.00000    3941.500000             4.000000   \n",
       "max                    60.00000   18424.000000             4.000000   \n",
       "\n",
       "       Duration-in-Current-address  Most-valuable-available-asset   Age-years  \\\n",
       "count                   156.000000                     500.000000  488.000000   \n",
       "mean                      2.660256                       2.360000   35.637295   \n",
       "std                       1.150017                       1.064268   11.501522   \n",
       "min                       1.000000                       1.000000   19.000000   \n",
       "25%                       2.000000                       1.000000   27.000000   \n",
       "50%                       2.000000                       3.000000   33.000000   \n",
       "75%                       4.000000                       3.000000   42.000000   \n",
       "max                       4.000000                       4.000000   75.000000   \n",
       "\n",
       "       Type-of-apartment  Occupation  No-of-dependents   Telephone  \\\n",
       "count         500.000000       500.0         500.00000  500.000000   \n",
       "mean            1.928000         1.0           1.14600    1.400000   \n",
       "std             0.539814         0.0           0.35346    0.490389   \n",
       "min             1.000000         1.0           1.00000    1.000000   \n",
       "25%             2.000000         1.0           1.00000    1.000000   \n",
       "50%             2.000000         1.0           1.00000    1.000000   \n",
       "75%             2.000000         1.0           1.00000    2.000000   \n",
       "max             3.000000         1.0           2.00000    2.000000   \n",
       "\n",
       "       Foreign-Worker  \n",
       "count      500.000000  \n",
       "mean         1.038000  \n",
       "std          0.191388  \n",
       "min          1.000000  \n",
       "25%          1.000000  \n",
       "50%          1.000000  \n",
       "75%          1.000000  \n",
       "max          2.000000  "
      ]
     },
     "execution_count": 3,
     "metadata": {},
     "output_type": "execute_result"
    }
   ],
   "source": [
    "df_train.describe()"
   ]
  },
  {
   "cell_type": "code",
   "execution_count": 4,
   "metadata": {
    "collapsed": false
   },
   "outputs": [
    {
     "name": "stdout",
     "output_type": "stream",
     "text": [
      "<class 'pandas.core.frame.DataFrame'>\n",
      "RangeIndex: 500 entries, 0 to 499\n",
      "Data columns (total 20 columns):\n",
      "Credit-Application-Result            500 non-null object\n",
      "Account-Balance                      500 non-null object\n",
      "Duration-of-Credit-Month             500 non-null int64\n",
      "Payment-Status-of-Previous-Credit    500 non-null object\n",
      "Purpose                              500 non-null object\n",
      "Credit-Amount                        500 non-null int64\n",
      "Value-Savings-Stocks                 500 non-null object\n",
      "Length-of-current-employment         500 non-null object\n",
      "Instalment-per-cent                  500 non-null int64\n",
      "Guarantors                           500 non-null object\n",
      "Duration-in-Current-address          156 non-null float64\n",
      "Most-valuable-available-asset        500 non-null int64\n",
      "Age-years                            488 non-null float64\n",
      "Concurrent-Credits                   500 non-null object\n",
      "Type-of-apartment                    500 non-null int64\n",
      "No-of-Credits-at-this-Bank           500 non-null object\n",
      "Occupation                           500 non-null int64\n",
      "No-of-dependents                     500 non-null int64\n",
      "Telephone                            500 non-null int64\n",
      "Foreign-Worker                       500 non-null int64\n",
      "dtypes: float64(2), int64(9), object(9)\n",
      "memory usage: 78.2+ KB\n"
     ]
    }
   ],
   "source": [
    "df_train.info()"
   ]
  },
  {
   "cell_type": "code",
   "execution_count": 5,
   "metadata": {
    "collapsed": true
   },
   "outputs": [],
   "source": [
    "# Duration-in-Current-address contains 344 nulls - Remove field\n",
    "# Age-years contains 12 nulls - Remove entries"
   ]
  },
  {
   "cell_type": "code",
   "execution_count": 6,
   "metadata": {
    "collapsed": false
   },
   "outputs": [
    {
     "name": "stdout",
     "output_type": "stream",
     "text": [
      "<class 'pandas.core.frame.DataFrame'>\n",
      "Int64Index: 488 entries, 1 to 499\n",
      "Data columns (total 19 columns):\n",
      "Credit-Application-Result            488 non-null object\n",
      "Account-Balance                      488 non-null object\n",
      "Duration-of-Credit-Month             488 non-null int64\n",
      "Payment-Status-of-Previous-Credit    488 non-null object\n",
      "Purpose                              488 non-null object\n",
      "Credit-Amount                        488 non-null int64\n",
      "Value-Savings-Stocks                 488 non-null object\n",
      "Length-of-current-employment         488 non-null object\n",
      "Instalment-per-cent                  488 non-null int64\n",
      "Guarantors                           488 non-null object\n",
      "Most-valuable-available-asset        488 non-null int64\n",
      "Age-years                            488 non-null float64\n",
      "Concurrent-Credits                   488 non-null object\n",
      "Type-of-apartment                    488 non-null int64\n",
      "No-of-Credits-at-this-Bank           488 non-null object\n",
      "Occupation                           488 non-null int64\n",
      "No-of-dependents                     488 non-null int64\n",
      "Telephone                            488 non-null int64\n",
      "Foreign-Worker                       488 non-null int64\n",
      "dtypes: float64(1), int64(9), object(9)\n",
      "memory usage: 76.2+ KB\n"
     ]
    }
   ],
   "source": [
    "df_train = df_train.drop('Duration-in-Current-address', axis=1)\n",
    "df_train = df_train.dropna(subset=['Age-years'], how='all')\n",
    "df_train.info()"
   ]
  },
  {
   "cell_type": "code",
   "execution_count": 7,
   "metadata": {
    "collapsed": false
   },
   "outputs": [],
   "source": [
    "target_name = 'Credit-Application-Result'\n",
    "numeric_features = list(df_train.describe().columns)\n",
    "qualitative_features = list(df_train.drop(numeric_features, axis=1).drop(target_name, axis=1).columns)"
   ]
  },
  {
   "cell_type": "code",
   "execution_count": 8,
   "metadata": {
    "collapsed": false
   },
   "outputs": [],
   "source": [
    "# sns.pairplot(df_train, hue=target_name, palette='Set1', kind='reg')"
   ]
  },
  {
   "cell_type": "code",
   "execution_count": 9,
   "metadata": {
    "collapsed": false
   },
   "outputs": [],
   "source": [
    "df_train_dummy = pd.get_dummies(df_train)\n",
    "# for feat in qualitative_features:\n",
    "#     df_train_dummy = df_train_dummy.append(pd.get_dummies(df_train_dummy[feat], dummy_na=False))\n",
    "#     df_train_dummy.pop(feat)\n",
    "# df_train_dummy.head()"
   ]
  },
  {
   "cell_type": "code",
   "execution_count": 10,
   "metadata": {
    "collapsed": false
   },
   "outputs": [],
   "source": [
    "df_train_dummy = df_train_dummy.drop(['Credit-Application-Result_Non-Creditworthy'], axis=1)"
   ]
  },
  {
   "cell_type": "code",
   "execution_count": 11,
   "metadata": {
    "collapsed": false
   },
   "outputs": [
    {
     "name": "stdout",
     "output_type": "stream",
     "text": [
      "<class 'pandas.core.frame.DataFrame'>\n",
      "Int64Index: 488 entries, 1 to 499\n",
      "Data columns (total 31 columns):\n",
      "Duration-of-Credit-Month                                        488 non-null int64\n",
      "Credit-Amount                                                   488 non-null int64\n",
      "Instalment-per-cent                                             488 non-null int64\n",
      "Most-valuable-available-asset                                   488 non-null int64\n",
      "Age-years                                                       488 non-null float64\n",
      "Type-of-apartment                                               488 non-null int64\n",
      "Occupation                                                      488 non-null int64\n",
      "No-of-dependents                                                488 non-null int64\n",
      "Telephone                                                       488 non-null int64\n",
      "Foreign-Worker                                                  488 non-null int64\n",
      "Credit-Application-Result_Creditworthy                          488 non-null uint8\n",
      "Account-Balance_No Account                                      488 non-null uint8\n",
      "Account-Balance_Some Balance                                    488 non-null uint8\n",
      "Payment-Status-of-Previous-Credit_No Problems (in this bank)    488 non-null uint8\n",
      "Payment-Status-of-Previous-Credit_Paid Up                       488 non-null uint8\n",
      "Payment-Status-of-Previous-Credit_Some Problems                 488 non-null uint8\n",
      "Purpose_Home Related                                            488 non-null uint8\n",
      "Purpose_New car                                                 488 non-null uint8\n",
      "Purpose_Other                                                   488 non-null uint8\n",
      "Purpose_Used car                                                488 non-null uint8\n",
      "Value-Savings-Stocks_< £100                                     488 non-null uint8\n",
      "Value-Savings-Stocks_None                                       488 non-null uint8\n",
      "Value-Savings-Stocks_£100-£1000                                 488 non-null uint8\n",
      "Length-of-current-employment_1-4 yrs                            488 non-null uint8\n",
      "Length-of-current-employment_4-7 yrs                            488 non-null uint8\n",
      "Length-of-current-employment_< 1yr                              488 non-null uint8\n",
      "Guarantors_None                                                 488 non-null uint8\n",
      "Guarantors_Yes                                                  488 non-null uint8\n",
      "Concurrent-Credits_Other Banks/Depts                            488 non-null uint8\n",
      "No-of-Credits-at-this-Bank_1                                    488 non-null uint8\n",
      "No-of-Credits-at-this-Bank_More than 1                          488 non-null uint8\n",
      "dtypes: float64(1), int64(9), uint8(21)\n",
      "memory usage: 51.9 KB\n"
     ]
    }
   ],
   "source": [
    "df_train_dummy.info()"
   ]
  },
  {
   "cell_type": "code",
   "execution_count": 12,
   "metadata": {
    "collapsed": true
   },
   "outputs": [],
   "source": [
    "from sklearn.feature_selection import SelectKBest"
   ]
  },
  {
   "cell_type": "code",
   "execution_count": 51,
   "metadata": {
    "collapsed": false
   },
   "outputs": [],
   "source": [
    "selection = SelectKBest(k=5)"
   ]
  },
  {
   "cell_type": "code",
   "execution_count": 52,
   "metadata": {
    "collapsed": false
   },
   "outputs": [
    {
     "data": {
      "text/plain": [
       "SelectKBest(k=5, score_func=<function f_classif at 0x000000000D15DF28>)"
      ]
     },
     "execution_count": 52,
     "metadata": {},
     "output_type": "execute_result"
    }
   ],
   "source": [
    "selection.fit(df_train_dummy.drop('Credit-Application-Result_Creditworthy', axis=1), df_train_dummy['Credit-Application-Result_Creditworthy'])"
   ]
  },
  {
   "cell_type": "code",
   "execution_count": 53,
   "metadata": {
    "collapsed": false
   },
   "outputs": [
    {
     "data": {
      "text/plain": [
       "30"
      ]
     },
     "execution_count": 53,
     "metadata": {},
     "output_type": "execute_result"
    }
   ],
   "source": [
    "len(selection.scores_)"
   ]
  },
  {
   "cell_type": "code",
   "execution_count": 54,
   "metadata": {
    "collapsed": false
   },
   "outputs": [],
   "source": [
    "features = df_train_dummy.drop('Credit-Application-Result_Creditworthy', axis=1).columns"
   ]
  },
  {
   "cell_type": "code",
   "execution_count": 93,
   "metadata": {
    "collapsed": false
   },
   "outputs": [
    {
     "data": {
      "image/png": "[encoded data removed]",
      "text/plain": [
       "<matplotlib.figure.Figure at 0x134a19b0>"
      ]
     },
     "metadata": {},
     "output_type": "display_data"
    },
    {
     "data": {
      "image/png": "[encoded data removed]",
      "text/plain": [
       "<matplotlib.figure.Figure at 0x151b8588>"
      ]
     },
     "metadata": {},
     "output_type": "display_data"
    }
   ],
   "source": [
    "plt.figure(figsize=(10,10))\n",
    "ax = plt.barh(np.arange(30), \n",
    "         selection.scores_[selection.scores_.argsort()], \n",
    "         tick_label=features[selection.scores_.argsort()])\n",
    "for p in ax.patches:\n",
    "    if ~np.isnan(p.get_width()):\n",
    "        plt.text(x=p.get_width()+.1,\n",
    "                 y=p.get_y()+.3,\n",
    "                 s=\"%0.1f\" % p.get_width())\n",
    "plt.figure(figsize=(10,10))\n",
    "ax = plt.barh(np.arange(30),\n",
    "         selection.pvalues_[selection.scores_.argsort()],\n",
    "         tick_label=features[selection.scores_.argsort()])\n",
    "for p in ax.patches:\n",
    "    if ~np.isnan(p.get_width()):\n",
    "        plt.text(x=p.get_width()+.01,\n",
    "                 y=p.get_y()+.3,\n",
    "                 s=\"%0.4f\" % p.get_width())"
   ]
  },
  {
   "cell_type": "code",
   "execution_count": 191,
   "metadata": {
    "collapsed": false
   },
   "outputs": [
    {
     "name": "stderr",
     "output_type": "stream",
     "text": [
      "C:\\ProgramData\\Anaconda2\\lib\\site-packages\\ipykernel\\__main__.py:1: RuntimeWarning: invalid value encountered in less\n",
      "  if __name__ == '__main__':\n"
     ]
    },
    {
     "data": {
      "text/plain": [
       "array([ True,  True, False,  True, False, False, False, False, False,\n",
       "       False,  True,  True,  True, False,  True, False,  True,  True,\n",
       "       False, False,  True,  True, False, False,  True, False, False,\n",
       "       False, False, False], dtype=bool)"
      ]
     },
     "execution_count": 191,
     "metadata": {},
     "output_type": "execute_result"
    }
   ],
   "source": []
  },
  {
   "cell_type": "code",
   "execution_count": 232,
   "metadata": {
    "collapsed": false
   },
   "outputs": [
    {
     "name": "stdout",
     "output_type": "stream",
     "text": [
      "Account-Balance_No Account\n",
      "Account-Balance_Some Balance\n",
      "Payment-Status-of-Previous-Credit_Some Problems\n",
      "Duration-of-Credit-Month\n",
      "Credit-Amount\n",
      "Value-Savings-Stocks_None\n",
      "Value-Savings-Stocks_£100-£1000\n",
      "Payment-Status-of-Previous-Credit_No Problems (in this bank)\n",
      "Most-valuable-available-asset\n",
      "Purpose_Other\n",
      "Length-of-current-employment_< 1yr\n",
      "Purpose_New car\n",
      "Purpose_Home Related\n",
      "Length-of-current-employment_1-4 yrs\n",
      "Instalment-per-cent\n"
     ]
    }
   ],
   "source": [
    "features_by_importance = features[selection.scores_.argsort()[::-1]]\n",
    "p_values_by_importance = selection.pvalues_[selection.scores_.argsort()[::-1]]\n",
    "use_features = []\n",
    "for idx in range(len(features_by_importance)):\n",
    "    if ~np.isnan(p_values_by_importance[idx]):\n",
    "        if p_values_by_importance[idx] <= 0.15:\n",
    "            use_features.append(features_by_importance[idx])\n",
    "            print(features_by_importance[idx])"
   ]
  },
  {
   "cell_type": "code",
   "execution_count": 269,
   "metadata": {
    "collapsed": false,
    "scrolled": true
   },
   "outputs": [
    {
     "data": {
      "text/plain": [
       "<matplotlib.axes._subplots.AxesSubplot at 0x1e9f8128>"
      ]
     },
     "execution_count": 269,
     "metadata": {},
     "output_type": "execute_result"
    },
    {
     "data": {
      "image/png": "[encoded data removed]",
      "text/plain": [
       "<matplotlib.figure.Figure at 0x1ebc6198>"
      ]
     },
     "metadata": {},
     "output_type": "display_data"
    }
   ],
   "source": [
    "sns.swarmplot(data=df_train_dummy, x='Purpose_New car', y='Credit-Amount', \n",
    "          hue='Credit-Application-Result_Creditworthy')"
   ]
  },
  {
   "cell_type": "code",
   "execution_count": 233,
   "metadata": {
    "collapsed": false
   },
   "outputs": [
    {
     "data": {
      "text/html": [
       "<div>\n",
       "<table border=\"1\" class=\"dataframe\">\n",
       "  <thead>\n",
       "    <tr style=\"text-align: right;\">\n",
       "      <th></th>\n",
       "      <th>Account-Balance_No Account</th>\n",
       "      <th>Account-Balance_Some Balance</th>\n",
       "      <th>Payment-Status-of-Previous-Credit_Some Problems</th>\n",
       "      <th>Duration-of-Credit-Month</th>\n",
       "      <th>Credit-Amount</th>\n",
       "      <th>Value-Savings-Stocks_None</th>\n",
       "      <th>Value-Savings-Stocks_£100-£1000</th>\n",
       "      <th>Payment-Status-of-Previous-Credit_No Problems (in this bank)</th>\n",
       "      <th>Most-valuable-available-asset</th>\n",
       "      <th>Purpose_Other</th>\n",
       "      <th>Length-of-current-employment_&lt; 1yr</th>\n",
       "      <th>Purpose_New car</th>\n",
       "      <th>Purpose_Home Related</th>\n",
       "      <th>Length-of-current-employment_1-4 yrs</th>\n",
       "      <th>Instalment-per-cent</th>\n",
       "    </tr>\n",
       "  </thead>\n",
       "  <tbody>\n",
       "    <tr>\n",
       "      <th>1</th>\n",
       "      <td>0</td>\n",
       "      <td>1</td>\n",
       "      <td>0</td>\n",
       "      <td>4</td>\n",
       "      <td>1494</td>\n",
       "      <td>0</td>\n",
       "      <td>1</td>\n",
       "      <td>0</td>\n",
       "      <td>1</td>\n",
       "      <td>0</td>\n",
       "      <td>1</td>\n",
       "      <td>0</td>\n",
       "      <td>1</td>\n",
       "      <td>0</td>\n",
       "      <td>1</td>\n",
       "    </tr>\n",
       "    <tr>\n",
       "      <th>2</th>\n",
       "      <td>0</td>\n",
       "      <td>1</td>\n",
       "      <td>0</td>\n",
       "      <td>4</td>\n",
       "      <td>1544</td>\n",
       "      <td>1</td>\n",
       "      <td>0</td>\n",
       "      <td>1</td>\n",
       "      <td>1</td>\n",
       "      <td>0</td>\n",
       "      <td>0</td>\n",
       "      <td>0</td>\n",
       "      <td>1</td>\n",
       "      <td>1</td>\n",
       "      <td>2</td>\n",
       "    </tr>\n",
       "    <tr>\n",
       "      <th>3</th>\n",
       "      <td>0</td>\n",
       "      <td>1</td>\n",
       "      <td>0</td>\n",
       "      <td>4</td>\n",
       "      <td>3380</td>\n",
       "      <td>1</td>\n",
       "      <td>0</td>\n",
       "      <td>1</td>\n",
       "      <td>1</td>\n",
       "      <td>0</td>\n",
       "      <td>0</td>\n",
       "      <td>0</td>\n",
       "      <td>1</td>\n",
       "      <td>1</td>\n",
       "      <td>1</td>\n",
       "    </tr>\n",
       "    <tr>\n",
       "      <th>4</th>\n",
       "      <td>1</td>\n",
       "      <td>0</td>\n",
       "      <td>0</td>\n",
       "      <td>6</td>\n",
       "      <td>343</td>\n",
       "      <td>1</td>\n",
       "      <td>0</td>\n",
       "      <td>0</td>\n",
       "      <td>1</td>\n",
       "      <td>0</td>\n",
       "      <td>1</td>\n",
       "      <td>0</td>\n",
       "      <td>1</td>\n",
       "      <td>0</td>\n",
       "      <td>4</td>\n",
       "    </tr>\n",
       "    <tr>\n",
       "      <th>5</th>\n",
       "      <td>0</td>\n",
       "      <td>1</td>\n",
       "      <td>0</td>\n",
       "      <td>6</td>\n",
       "      <td>362</td>\n",
       "      <td>0</td>\n",
       "      <td>0</td>\n",
       "      <td>1</td>\n",
       "      <td>3</td>\n",
       "      <td>0</td>\n",
       "      <td>1</td>\n",
       "      <td>0</td>\n",
       "      <td>1</td>\n",
       "      <td>0</td>\n",
       "      <td>4</td>\n",
       "    </tr>\n",
       "  </tbody>\n",
       "</table>\n",
       "</div>"
      ],
      "text/plain": [
       "   Account-Balance_No Account  Account-Balance_Some Balance  \\\n",
       "1                           0                             1   \n",
       "2                           0                             1   \n",
       "3                           0                             1   \n",
       "4                           1                             0   \n",
       "5                           0                             1   \n",
       "\n",
       "   Payment-Status-of-Previous-Credit_Some Problems  Duration-of-Credit-Month  \\\n",
       "1                                                0                         4   \n",
       "2                                                0                         4   \n",
       "3                                                0                         4   \n",
       "4                                                0                         6   \n",
       "5                                                0                         6   \n",
       "\n",
       "   Credit-Amount  Value-Savings-Stocks_None  Value-Savings-Stocks_£100-£1000  \\\n",
       "1           1494                          0                                1   \n",
       "2           1544                          1                                0   \n",
       "3           3380                          1                                0   \n",
       "4            343                          1                                0   \n",
       "5            362                          0                                0   \n",
       "\n",
       "   Payment-Status-of-Previous-Credit_No Problems (in this bank)  \\\n",
       "1                                                  0              \n",
       "2                                                  1              \n",
       "3                                                  1              \n",
       "4                                                  0              \n",
       "5                                                  1              \n",
       "\n",
       "   Most-valuable-available-asset  Purpose_Other  \\\n",
       "1                              1              0   \n",
       "2                              1              0   \n",
       "3                              1              0   \n",
       "4                              1              0   \n",
       "5                              3              0   \n",
       "\n",
       "   Length-of-current-employment_< 1yr  Purpose_New car  Purpose_Home Related  \\\n",
       "1                                   1                0                     1   \n",
       "2                                   0                0                     1   \n",
       "3                                   0                0                     1   \n",
       "4                                   1                0                     1   \n",
       "5                                   1                0                     1   \n",
       "\n",
       "   Length-of-current-employment_1-4 yrs  Instalment-per-cent  \n",
       "1                                     0                    1  \n",
       "2                                     1                    2  \n",
       "3                                     1                    1  \n",
       "4                                     0                    4  \n",
       "5                                     0                    4  "
      ]
     },
     "execution_count": 233,
     "metadata": {},
     "output_type": "execute_result"
    }
   ],
   "source": [
    "df_features = df_train_dummy[use_features]\n",
    "df_labels = df_train_dummy['Credit-Application-Result_Creditworthy']\n",
    "df_features.head()"
   ]
  },
  {
   "cell_type": "code",
   "execution_count": 234,
   "metadata": {
    "collapsed": false
   },
   "outputs": [],
   "source": [
    "from sklearn.cross_validation import train_test_split\n",
    "from sklearn.metrics import classification_report, confusion_matrix, precision_score, recall_score, accuracy_score\n",
    "\n",
    "X_train, X_test, y_train, y_test = train_test_split(df_features, df_labels, test_size=0.3, random_state=0)"
   ]
  },
  {
   "cell_type": "code",
   "execution_count": 235,
   "metadata": {
    "collapsed": false
   },
   "outputs": [
    {
     "name": "stdout",
     "output_type": "stream",
     "text": [
      "Classifier: Logistic Regression\n",
      "---------------------------------\n",
      "Accuracy:\t0.7551\n",
      "Precision:\t0.7623\n",
      "Recall:\t\t0.9300\n",
      "\n",
      "             precision    recall  f1-score   support\n",
      "\n",
      "          0       0.72      0.38      0.50        47\n",
      "          1       0.76      0.93      0.84       100\n",
      "\n",
      "avg / total       0.75      0.76      0.73       147\n",
      "\n",
      "[[18 29]\n",
      " [ 7 93]]\n"
     ]
    }
   ],
   "source": [
    "from sklearn.linear_model import LogisticRegression\n",
    "\n",
    "clf = LogisticRegression()\n",
    "clf.fit(X_train, y_train)\n",
    "y_pred = clf.predict(X_test)\n",
    "\n",
    "print(\"Classifier: Logistic Regression\")\n",
    "print('---------------------------------')\n",
    "print(\"Accuracy:\\t%0.4f\" % accuracy_score(y_test, y_pred))\n",
    "print(\"Precision:\\t%0.4f\" % precision_score(y_test, y_pred))\n",
    "print(\"Recall:\\t\\t%0.4f\" % recall_score(y_test, y_pred))\n",
    "print('')\n",
    "print(classification_report(y_test, y_pred))\n",
    "print(confusion_matrix(y_test, y_pred))"
   ]
  },
  {
   "cell_type": "code",
   "execution_count": 236,
   "metadata": {
    "collapsed": false
   },
   "outputs": [
    {
     "name": "stdout",
     "output_type": "stream",
     "text": [
      "Classifier: Random ForestClassifier\n",
      "---------------------------------\n",
      "Accuracy:\t0.7143\n",
      "Precision:\t0.7589\n",
      "Recall:\t\t0.8500\n",
      "\n",
      "             precision    recall  f1-score   support\n",
      "\n",
      "          0       0.57      0.43      0.49        47\n",
      "          1       0.76      0.85      0.80       100\n",
      "\n",
      "avg / total       0.70      0.71      0.70       147\n",
      "\n",
      "[[20 27]\n",
      " [15 85]]\n"
     ]
    }
   ],
   "source": [
    "from sklearn.ensemble import RandomForestClassifier\n",
    "\n",
    "clf = RandomForestClassifier()\n",
    "clf.fit(X_train, y_train)\n",
    "y_pred = clf.predict(X_test)\n",
    "\n",
    "print(\"Classifier: Random ForestClassifier\")\n",
    "print('---------------------------------')\n",
    "print(\"Accuracy:\\t%0.4f\" % accuracy_score(y_test, y_pred))\n",
    "print(\"Precision:\\t%0.4f\" % precision_score(y_test, y_pred))\n",
    "print(\"Recall:\\t\\t%0.4f\" % recall_score(y_test, y_pred))\n",
    "print('')\n",
    "print(classification_report(y_test, y_pred))\n",
    "print(confusion_matrix(y_test, y_pred))"
   ]
  },
  {
   "cell_type": "code",
   "execution_count": 237,
   "metadata": {
    "collapsed": false
   },
   "outputs": [
    {
     "name": "stdout",
     "output_type": "stream",
     "text": [
      "Classifier: Gaussian Naive-Bayes\n",
      "---------------------------------\n",
      "Accuracy:\t0.7483\n",
      "Precision:\t0.7603\n",
      "Recall:\t\t0.9200\n",
      "\n",
      "             precision    recall  f1-score   support\n",
      "\n",
      "          0       0.69      0.38      0.49        47\n",
      "          1       0.76      0.92      0.83       100\n",
      "\n",
      "avg / total       0.74      0.75      0.72       147\n",
      "\n",
      "[[18 29]\n",
      " [ 8 92]]\n"
     ]
    }
   ],
   "source": [
    "from sklearn.naive_bayes import GaussianNB\n",
    "\n",
    "clf = GaussianNB()\n",
    "clf.fit(X_train, y_train)\n",
    "y_pred = clf.predict(X_test)\n",
    "\n",
    "print(\"Classifier: Gaussian Naive-Bayes\")\n",
    "print('---------------------------------')\n",
    "print(\"Accuracy:\\t%0.4f\" % accuracy_score(y_test, y_pred))\n",
    "print(\"Precision:\\t%0.4f\" % precision_score(y_test, y_pred))\n",
    "print(\"Recall:\\t\\t%0.4f\" % recall_score(y_test, y_pred))\n",
    "print('')\n",
    "print(classification_report(y_test, y_pred))\n",
    "print(confusion_matrix(y_test, y_pred))"
   ]
  },
  {
   "cell_type": "code",
   "execution_count": 238,
   "metadata": {
    "collapsed": false
   },
   "outputs": [
    {
     "name": "stdout",
     "output_type": "stream",
     "text": [
      "Classifier: Decision Tree\n",
      "---------------------------------\n",
      "Accuracy:\t0.6395\n",
      "Precision:\t0.7117\n",
      "Recall:\t\t0.7900\n",
      "\n",
      "             precision    recall  f1-score   support\n",
      "\n",
      "          0       0.42      0.32      0.36        47\n",
      "          1       0.71      0.79      0.75       100\n",
      "\n",
      "avg / total       0.62      0.64      0.62       147\n",
      "\n",
      "[[15 32]\n",
      " [21 79]]\n"
     ]
    }
   ],
   "source": [
    "from sklearn.tree import DecisionTreeClassifier\n",
    "\n",
    "clf = DecisionTreeClassifier()\n",
    "clf.fit(X_train, y_train)\n",
    "y_pred = clf.predict(X_test)\n",
    "\n",
    "print(\"Classifier: Decision Tree\")\n",
    "print('---------------------------------')\n",
    "print(\"Accuracy:\\t%0.4f\" % accuracy_score(y_test, y_pred))\n",
    "print(\"Precision:\\t%0.4f\" % precision_score(y_test, y_pred))\n",
    "print(\"Recall:\\t\\t%0.4f\" % recall_score(y_test, y_pred))\n",
    "print('')\n",
    "print(classification_report(y_test, y_pred))\n",
    "print(confusion_matrix(y_test, y_pred))"
   ]
  },
  {
   "cell_type": "code",
   "execution_count": 239,
   "metadata": {
    "collapsed": false
   },
   "outputs": [
    {
     "name": "stdout",
     "output_type": "stream",
     "text": [
      "Classifier: Random ForestClassifier\n",
      "---------------------------------\n",
      "Accuracy:\t0.7007\n",
      "Precision:\t0.7333\n",
      "Recall:\t\t0.8800\n",
      "\n",
      "             precision    recall  f1-score   support\n",
      "\n",
      "          0       0.56      0.32      0.41        47\n",
      "          1       0.73      0.88      0.80       100\n",
      "\n",
      "avg / total       0.68      0.70      0.67       147\n",
      "\n",
      "[[15 32]\n",
      " [12 88]]\n"
     ]
    }
   ],
   "source": [
    "from sklearn.ensemble import AdaBoostClassifier\n",
    "\n",
    "clf = AdaBoostClassifier()\n",
    "clf.fit(X_train, y_train)\n",
    "y_pred = clf.predict(X_test)\n",
    "\n",
    "print(\"Classifier: Random ForestClassifier\")\n",
    "print('---------------------------------')\n",
    "print(\"Accuracy:\\t%0.4f\" % accuracy_score(y_test, y_pred))\n",
    "print(\"Precision:\\t%0.4f\" % precision_score(y_test, y_pred))\n",
    "print(\"Recall:\\t\\t%0.4f\" % recall_score(y_test, y_pred))\n",
    "print('')\n",
    "print(classification_report(y_test, y_pred))\n",
    "print(confusion_matrix(y_test, y_pred))"
   ]
  },
  {
   "cell_type": "code",
   "execution_count": 251,
   "metadata": {
    "collapsed": false
   },
   "outputs": [
    {
     "name": "stdout",
     "output_type": "stream",
     "text": [
      "Classifier: Support Vector Machine\n",
      "---------------------------------\n",
      "Accuracy:\t0.6803\n",
      "Precision:\t0.6803\n",
      "Recall:\t\t1.0000\n",
      "\n",
      "             precision    recall  f1-score   support\n",
      "\n",
      "          0       0.00      0.00      0.00        47\n",
      "          1       0.68      1.00      0.81       100\n",
      "\n",
      "avg / total       0.46      0.68      0.55       147\n",
      "\n",
      "[[  0  47]\n",
      " [  0 100]]\n"
     ]
    }
   ],
   "source": [
    "from sklearn.svm import LinearSVC\n",
    "\n",
    "clf = LinearSVC()\n",
    "clf.fit(X_train, y_train)\n",
    "y_pred = clf.predict(X_test)\n",
    "\n",
    "print(\"Classifier: Support Vector Machine\")\n",
    "print('---------------------------------')\n",
    "print(\"Accuracy:\\t%0.4f\" % accuracy_score(y_test, y_pred))\n",
    "print(\"Precision:\\t%0.4f\" % precision_score(y_test, y_pred))\n",
    "print(\"Recall:\\t\\t%0.4f\" % recall_score(y_test, y_pred))\n",
    "print('')\n",
    "print(classification_report(y_test, y_pred))\n",
    "print(confusion_matrix(y_test, y_pred))"
   ]
  },
  {
   "cell_type": "code",
   "execution_count": null,
   "metadata": {
    "collapsed": true
   },
   "outputs": [],
   "source": []
  }
 ],
 "metadata": {
  "kernelspec": {
   "display_name": "Python 2",
   "language": "python",
   "name": "python2"
  },
  "language_info": {
   "codemirror_mode": {
    "name": "ipython",
    "version": 2
   },
   "file_extension": ".py",
   "mimetype": "text/x-python",
   "name": "python",
   "nbconvert_exporter": "python",
   "pygments_lexer": "ipython2",
   "version": "2.7.13"
  }
 },
 "nbformat": 4,
 "nbformat_minor": 2
}

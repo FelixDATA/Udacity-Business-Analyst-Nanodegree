{
 "cells": [
  {
   "cell_type": "code",
   "execution_count": 1,
   "metadata": {
    "collapsed": true
   },
   "outputs": [],
   "source": [
    "import numpy as np\n",
    "import pandas as pd\n",
    "import matplotlib.pyplot as plt\n",
    "import seaborn as sns\n",
    "%matplotlib inline"
   ]
  },
  {
   "cell_type": "code",
   "execution_count": 105,
   "metadata": {
    "collapsed": false
   },
   "outputs": [
    {
     "data": {
      "text/html": [
       "<div>\n",
       "<table border=\"1\" class=\"dataframe\">\n",
       "  <thead>\n",
       "    <tr style=\"text-align: right;\">\n",
       "      <th></th>\n",
       "      <th>Credit-Application-Result</th>\n",
       "      <th>Account-Balance</th>\n",
       "      <th>Duration-of-Credit-Month</th>\n",
       "      <th>Payment-Status-of-Previous-Credit</th>\n",
       "      <th>Purpose</th>\n",
       "      <th>Credit-Amount</th>\n",
       "      <th>Value-Savings-Stocks</th>\n",
       "      <th>Length-of-current-employment</th>\n",
       "      <th>Instalment-per-cent</th>\n",
       "      <th>Guarantors</th>\n",
       "      <th>Duration-in-Current-address</th>\n",
       "      <th>Most-valuable-available-asset</th>\n",
       "      <th>Age-years</th>\n",
       "      <th>Concurrent-Credits</th>\n",
       "      <th>Type-of-apartment</th>\n",
       "      <th>No-of-Credits-at-this-Bank</th>\n",
       "      <th>Occupation</th>\n",
       "      <th>No-of-dependents</th>\n",
       "      <th>Telephone</th>\n",
       "      <th>Foreign-Worker</th>\n",
       "    </tr>\n",
       "  </thead>\n",
       "  <tbody>\n",
       "    <tr>\n",
       "      <th>0</th>\n",
       "      <td>Creditworthy</td>\n",
       "      <td>Some Balance</td>\n",
       "      <td>4</td>\n",
       "      <td>Paid Up</td>\n",
       "      <td>Other</td>\n",
       "      <td>1494</td>\n",
       "      <td>£100-£1000</td>\n",
       "      <td>&lt; 1yr</td>\n",
       "      <td>1</td>\n",
       "      <td>None</td>\n",
       "      <td>2.0</td>\n",
       "      <td>1</td>\n",
       "      <td>NaN</td>\n",
       "      <td>Other Banks/Depts</td>\n",
       "      <td>2</td>\n",
       "      <td>1</td>\n",
       "      <td>1</td>\n",
       "      <td>2</td>\n",
       "      <td>1</td>\n",
       "      <td>2</td>\n",
       "    </tr>\n",
       "    <tr>\n",
       "      <th>1</th>\n",
       "      <td>Creditworthy</td>\n",
       "      <td>Some Balance</td>\n",
       "      <td>4</td>\n",
       "      <td>Paid Up</td>\n",
       "      <td>Home Related</td>\n",
       "      <td>1494</td>\n",
       "      <td>£100-£1000</td>\n",
       "      <td>&lt; 1yr</td>\n",
       "      <td>1</td>\n",
       "      <td>None</td>\n",
       "      <td>2.0</td>\n",
       "      <td>1</td>\n",
       "      <td>29.0</td>\n",
       "      <td>Other Banks/Depts</td>\n",
       "      <td>2</td>\n",
       "      <td>1</td>\n",
       "      <td>1</td>\n",
       "      <td>2</td>\n",
       "      <td>1</td>\n",
       "      <td>2</td>\n",
       "    </tr>\n",
       "    <tr>\n",
       "      <th>2</th>\n",
       "      <td>Creditworthy</td>\n",
       "      <td>Some Balance</td>\n",
       "      <td>4</td>\n",
       "      <td>No Problems (in this bank)</td>\n",
       "      <td>Home Related</td>\n",
       "      <td>1544</td>\n",
       "      <td>None</td>\n",
       "      <td>1-4 yrs</td>\n",
       "      <td>2</td>\n",
       "      <td>None</td>\n",
       "      <td>1.0</td>\n",
       "      <td>1</td>\n",
       "      <td>42.0</td>\n",
       "      <td>Other Banks/Depts</td>\n",
       "      <td>2</td>\n",
       "      <td>More than 1</td>\n",
       "      <td>1</td>\n",
       "      <td>2</td>\n",
       "      <td>1</td>\n",
       "      <td>1</td>\n",
       "    </tr>\n",
       "    <tr>\n",
       "      <th>3</th>\n",
       "      <td>Creditworthy</td>\n",
       "      <td>Some Balance</td>\n",
       "      <td>4</td>\n",
       "      <td>No Problems (in this bank)</td>\n",
       "      <td>Home Related</td>\n",
       "      <td>3380</td>\n",
       "      <td>None</td>\n",
       "      <td>1-4 yrs</td>\n",
       "      <td>1</td>\n",
       "      <td>None</td>\n",
       "      <td>1.0</td>\n",
       "      <td>1</td>\n",
       "      <td>37.0</td>\n",
       "      <td>Other Banks/Depts</td>\n",
       "      <td>2</td>\n",
       "      <td>1</td>\n",
       "      <td>1</td>\n",
       "      <td>2</td>\n",
       "      <td>1</td>\n",
       "      <td>1</td>\n",
       "    </tr>\n",
       "    <tr>\n",
       "      <th>4</th>\n",
       "      <td>Creditworthy</td>\n",
       "      <td>No Account</td>\n",
       "      <td>6</td>\n",
       "      <td>Paid Up</td>\n",
       "      <td>Home Related</td>\n",
       "      <td>343</td>\n",
       "      <td>None</td>\n",
       "      <td>&lt; 1yr</td>\n",
       "      <td>4</td>\n",
       "      <td>None</td>\n",
       "      <td>1.0</td>\n",
       "      <td>1</td>\n",
       "      <td>27.0</td>\n",
       "      <td>Other Banks/Depts</td>\n",
       "      <td>2</td>\n",
       "      <td>1</td>\n",
       "      <td>1</td>\n",
       "      <td>1</td>\n",
       "      <td>1</td>\n",
       "      <td>1</td>\n",
       "    </tr>\n",
       "  </tbody>\n",
       "</table>\n",
       "</div>"
      ],
      "text/plain": [
       "  Credit-Application-Result Account-Balance  Duration-of-Credit-Month  \\\n",
       "0              Creditworthy    Some Balance                         4   \n",
       "1              Creditworthy    Some Balance                         4   \n",
       "2              Creditworthy    Some Balance                         4   \n",
       "3              Creditworthy    Some Balance                         4   \n",
       "4              Creditworthy      No Account                         6   \n",
       "\n",
       "  Payment-Status-of-Previous-Credit       Purpose  Credit-Amount  \\\n",
       "0                           Paid Up         Other           1494   \n",
       "1                           Paid Up  Home Related           1494   \n",
       "2        No Problems (in this bank)  Home Related           1544   \n",
       "3        No Problems (in this bank)  Home Related           3380   \n",
       "4                           Paid Up  Home Related            343   \n",
       "\n",
       "  Value-Savings-Stocks Length-of-current-employment  Instalment-per-cent  \\\n",
       "0           £100-£1000                        < 1yr                    1   \n",
       "1           £100-£1000                        < 1yr                    1   \n",
       "2                 None                      1-4 yrs                    2   \n",
       "3                 None                      1-4 yrs                    1   \n",
       "4                 None                        < 1yr                    4   \n",
       "\n",
       "  Guarantors  Duration-in-Current-address  Most-valuable-available-asset  \\\n",
       "0       None                          2.0                              1   \n",
       "1       None                          2.0                              1   \n",
       "2       None                          1.0                              1   \n",
       "3       None                          1.0                              1   \n",
       "4       None                          1.0                              1   \n",
       "\n",
       "   Age-years Concurrent-Credits  Type-of-apartment No-of-Credits-at-this-Bank  \\\n",
       "0        NaN  Other Banks/Depts                  2                          1   \n",
       "1       29.0  Other Banks/Depts                  2                          1   \n",
       "2       42.0  Other Banks/Depts                  2                More than 1   \n",
       "3       37.0  Other Banks/Depts                  2                          1   \n",
       "4       27.0  Other Banks/Depts                  2                          1   \n",
       "\n",
       "   Occupation  No-of-dependents  Telephone  Foreign-Worker  \n",
       "0           1                 2          1               2  \n",
       "1           1                 2          1               2  \n",
       "2           1                 2          1               1  \n",
       "3           1                 2          1               1  \n",
       "4           1                 1          1               1  "
      ]
     },
     "execution_count": 105,
     "metadata": {},
     "output_type": "execute_result"
    }
   ],
   "source": [
    "df_train = pd.read_excel('credit-data-training (3).xlsx')\n",
    "df_train.head()"
   ]
  },
  {
   "cell_type": "code",
   "execution_count": 106,
   "metadata": {
    "collapsed": false
   },
   "outputs": [
    {
     "data": {
      "text/html": [
       "<div>\n",
       "<table border=\"1\" class=\"dataframe\">\n",
       "  <thead>\n",
       "    <tr style=\"text-align: right;\">\n",
       "      <th></th>\n",
       "      <th>Duration-of-Credit-Month</th>\n",
       "      <th>Credit-Amount</th>\n",
       "      <th>Instalment-per-cent</th>\n",
       "      <th>Duration-in-Current-address</th>\n",
       "      <th>Most-valuable-available-asset</th>\n",
       "      <th>Age-years</th>\n",
       "      <th>Type-of-apartment</th>\n",
       "      <th>Occupation</th>\n",
       "      <th>No-of-dependents</th>\n",
       "      <th>Telephone</th>\n",
       "      <th>Foreign-Worker</th>\n",
       "    </tr>\n",
       "  </thead>\n",
       "  <tbody>\n",
       "    <tr>\n",
       "      <th>count</th>\n",
       "      <td>500.00000</td>\n",
       "      <td>500.000000</td>\n",
       "      <td>500.000000</td>\n",
       "      <td>156.000000</td>\n",
       "      <td>500.000000</td>\n",
       "      <td>488.000000</td>\n",
       "      <td>500.000000</td>\n",
       "      <td>500.0</td>\n",
       "      <td>500.00000</td>\n",
       "      <td>500.000000</td>\n",
       "      <td>500.000000</td>\n",
       "    </tr>\n",
       "    <tr>\n",
       "      <th>mean</th>\n",
       "      <td>21.43400</td>\n",
       "      <td>3199.980000</td>\n",
       "      <td>3.010000</td>\n",
       "      <td>2.660256</td>\n",
       "      <td>2.360000</td>\n",
       "      <td>35.637295</td>\n",
       "      <td>1.928000</td>\n",
       "      <td>1.0</td>\n",
       "      <td>1.14600</td>\n",
       "      <td>1.400000</td>\n",
       "      <td>1.038000</td>\n",
       "    </tr>\n",
       "    <tr>\n",
       "      <th>std</th>\n",
       "      <td>12.30742</td>\n",
       "      <td>2831.386861</td>\n",
       "      <td>1.113724</td>\n",
       "      <td>1.150017</td>\n",
       "      <td>1.064268</td>\n",
       "      <td>11.501522</td>\n",
       "      <td>0.539814</td>\n",
       "      <td>0.0</td>\n",
       "      <td>0.35346</td>\n",
       "      <td>0.490389</td>\n",
       "      <td>0.191388</td>\n",
       "    </tr>\n",
       "    <tr>\n",
       "      <th>min</th>\n",
       "      <td>4.00000</td>\n",
       "      <td>276.000000</td>\n",
       "      <td>1.000000</td>\n",
       "      <td>1.000000</td>\n",
       "      <td>1.000000</td>\n",
       "      <td>19.000000</td>\n",
       "      <td>1.000000</td>\n",
       "      <td>1.0</td>\n",
       "      <td>1.00000</td>\n",
       "      <td>1.000000</td>\n",
       "      <td>1.000000</td>\n",
       "    </tr>\n",
       "    <tr>\n",
       "      <th>25%</th>\n",
       "      <td>12.00000</td>\n",
       "      <td>1357.250000</td>\n",
       "      <td>2.000000</td>\n",
       "      <td>2.000000</td>\n",
       "      <td>1.000000</td>\n",
       "      <td>27.000000</td>\n",
       "      <td>2.000000</td>\n",
       "      <td>1.0</td>\n",
       "      <td>1.00000</td>\n",
       "      <td>1.000000</td>\n",
       "      <td>1.000000</td>\n",
       "    </tr>\n",
       "    <tr>\n",
       "      <th>50%</th>\n",
       "      <td>18.00000</td>\n",
       "      <td>2236.500000</td>\n",
       "      <td>3.000000</td>\n",
       "      <td>2.000000</td>\n",
       "      <td>3.000000</td>\n",
       "      <td>33.000000</td>\n",
       "      <td>2.000000</td>\n",
       "      <td>1.0</td>\n",
       "      <td>1.00000</td>\n",
       "      <td>1.000000</td>\n",
       "      <td>1.000000</td>\n",
       "    </tr>\n",
       "    <tr>\n",
       "      <th>75%</th>\n",
       "      <td>24.00000</td>\n",
       "      <td>3941.500000</td>\n",
       "      <td>4.000000</td>\n",
       "      <td>4.000000</td>\n",
       "      <td>3.000000</td>\n",
       "      <td>42.000000</td>\n",
       "      <td>2.000000</td>\n",
       "      <td>1.0</td>\n",
       "      <td>1.00000</td>\n",
       "      <td>2.000000</td>\n",
       "      <td>1.000000</td>\n",
       "    </tr>\n",
       "    <tr>\n",
       "      <th>max</th>\n",
       "      <td>60.00000</td>\n",
       "      <td>18424.000000</td>\n",
       "      <td>4.000000</td>\n",
       "      <td>4.000000</td>\n",
       "      <td>4.000000</td>\n",
       "      <td>75.000000</td>\n",
       "      <td>3.000000</td>\n",
       "      <td>1.0</td>\n",
       "      <td>2.00000</td>\n",
       "      <td>2.000000</td>\n",
       "      <td>2.000000</td>\n",
       "    </tr>\n",
       "  </tbody>\n",
       "</table>\n",
       "</div>"
      ],
      "text/plain": [
       "       Duration-of-Credit-Month  Credit-Amount  Instalment-per-cent  \\\n",
       "count                 500.00000     500.000000           500.000000   \n",
       "mean                   21.43400    3199.980000             3.010000   \n",
       "std                    12.30742    2831.386861             1.113724   \n",
       "min                     4.00000     276.000000             1.000000   \n",
       "25%                    12.00000    1357.250000             2.000000   \n",
       "50%                    18.00000    2236.500000             3.000000   \n",
       "75%                    24.00000    3941.500000             4.000000   \n",
       "max                    60.00000   18424.000000             4.000000   \n",
       "\n",
       "       Duration-in-Current-address  Most-valuable-available-asset   Age-years  \\\n",
       "count                   156.000000                     500.000000  488.000000   \n",
       "mean                      2.660256                       2.360000   35.637295   \n",
       "std                       1.150017                       1.064268   11.501522   \n",
       "min                       1.000000                       1.000000   19.000000   \n",
       "25%                       2.000000                       1.000000   27.000000   \n",
       "50%                       2.000000                       3.000000   33.000000   \n",
       "75%                       4.000000                       3.000000   42.000000   \n",
       "max                       4.000000                       4.000000   75.000000   \n",
       "\n",
       "       Type-of-apartment  Occupation  No-of-dependents   Telephone  \\\n",
       "count         500.000000       500.0         500.00000  500.000000   \n",
       "mean            1.928000         1.0           1.14600    1.400000   \n",
       "std             0.539814         0.0           0.35346    0.490389   \n",
       "min             1.000000         1.0           1.00000    1.000000   \n",
       "25%             2.000000         1.0           1.00000    1.000000   \n",
       "50%             2.000000         1.0           1.00000    1.000000   \n",
       "75%             2.000000         1.0           1.00000    2.000000   \n",
       "max             3.000000         1.0           2.00000    2.000000   \n",
       "\n",
       "       Foreign-Worker  \n",
       "count      500.000000  \n",
       "mean         1.038000  \n",
       "std          0.191388  \n",
       "min          1.000000  \n",
       "25%          1.000000  \n",
       "50%          1.000000  \n",
       "75%          1.000000  \n",
       "max          2.000000  "
      ]
     },
     "execution_count": 106,
     "metadata": {},
     "output_type": "execute_result"
    }
   ],
   "source": [
    "df_train.describe()"
   ]
  },
  {
   "cell_type": "code",
   "execution_count": 107,
   "metadata": {
    "collapsed": false
   },
   "outputs": [
    {
     "name": "stdout",
     "output_type": "stream",
     "text": [
      "<class 'pandas.core.frame.DataFrame'>\n",
      "RangeIndex: 500 entries, 0 to 499\n",
      "Data columns (total 20 columns):\n",
      "Credit-Application-Result            500 non-null object\n",
      "Account-Balance                      500 non-null object\n",
      "Duration-of-Credit-Month             500 non-null int64\n",
      "Payment-Status-of-Previous-Credit    500 non-null object\n",
      "Purpose                              500 non-null object\n",
      "Credit-Amount                        500 non-null int64\n",
      "Value-Savings-Stocks                 500 non-null object\n",
      "Length-of-current-employment         500 non-null object\n",
      "Instalment-per-cent                  500 non-null int64\n",
      "Guarantors                           500 non-null object\n",
      "Duration-in-Current-address          156 non-null float64\n",
      "Most-valuable-available-asset        500 non-null int64\n",
      "Age-years                            488 non-null float64\n",
      "Concurrent-Credits                   500 non-null object\n",
      "Type-of-apartment                    500 non-null int64\n",
      "No-of-Credits-at-this-Bank           500 non-null object\n",
      "Occupation                           500 non-null int64\n",
      "No-of-dependents                     500 non-null int64\n",
      "Telephone                            500 non-null int64\n",
      "Foreign-Worker                       500 non-null int64\n",
      "dtypes: float64(2), int64(9), object(9)\n",
      "memory usage: 78.2+ KB\n"
     ]
    }
   ],
   "source": [
    "df_train.info()"
   ]
  },
  {
   "cell_type": "code",
   "execution_count": 108,
   "metadata": {
    "collapsed": true
   },
   "outputs": [],
   "source": [
    "# Duration-in-Current-address contains 344 nulls - Remove field\n",
    "# Age-years contains 12 nulls - Remove entries"
   ]
  },
  {
   "cell_type": "code",
   "execution_count": 109,
   "metadata": {
    "collapsed": false
   },
   "outputs": [
    {
     "name": "stdout",
     "output_type": "stream",
     "text": [
      "<class 'pandas.core.frame.DataFrame'>\n",
      "Int64Index: 488 entries, 1 to 499\n",
      "Data columns (total 19 columns):\n",
      "Credit-Application-Result            488 non-null object\n",
      "Account-Balance                      488 non-null object\n",
      "Duration-of-Credit-Month             488 non-null int64\n",
      "Payment-Status-of-Previous-Credit    488 non-null object\n",
      "Purpose                              488 non-null object\n",
      "Credit-Amount                        488 non-null int64\n",
      "Value-Savings-Stocks                 488 non-null object\n",
      "Length-of-current-employment         488 non-null object\n",
      "Instalment-per-cent                  488 non-null int64\n",
      "Guarantors                           488 non-null object\n",
      "Most-valuable-available-asset        488 non-null int64\n",
      "Age-years                            488 non-null float64\n",
      "Concurrent-Credits                   488 non-null object\n",
      "Type-of-apartment                    488 non-null int64\n",
      "No-of-Credits-at-this-Bank           488 non-null object\n",
      "Occupation                           488 non-null int64\n",
      "No-of-dependents                     488 non-null int64\n",
      "Telephone                            488 non-null int64\n",
      "Foreign-Worker                       488 non-null int64\n",
      "dtypes: float64(1), int64(9), object(9)\n",
      "memory usage: 76.2+ KB\n"
     ]
    }
   ],
   "source": [
    "df_train = df_train.drop('Duration-in-Current-address', axis=1)\n",
    "df_train = df_train.dropna(subset=['Age-years'], how='all')\n",
    "df_train.info()"
   ]
  },
  {
   "cell_type": "code",
   "execution_count": 110,
   "metadata": {
    "collapsed": false
   },
   "outputs": [],
   "source": [
    "target_name = 'Credit-Application-Result'\n",
    "numeric_features = list(df_train.describe().columns)\n",
    "qualitative_features = list(df_train.drop(numeric_features, axis=1).drop(target_name, axis=1).columns)"
   ]
  },
  {
   "cell_type": "code",
   "execution_count": 111,
   "metadata": {
    "collapsed": false
   },
   "outputs": [],
   "source": [
    "# sns.pairplot(df_train, hue=target_name, palette='Set1', kind='reg')"
   ]
  },
  {
   "cell_type": "code",
   "execution_count": 112,
   "metadata": {
    "collapsed": false
   },
   "outputs": [],
   "source": [
    "df_train_dummy = pd.get_dummies(df_train)\n",
    "# for feat in qualitative_features:\n",
    "#     df_train_dummy = df_train_dummy.append(pd.get_dummies(df_train_dummy[feat], dummy_na=False))\n",
    "#     df_train_dummy.pop(feat)\n",
    "# df_train_dummy.head()"
   ]
  },
  {
   "cell_type": "code",
   "execution_count": 113,
   "metadata": {
    "collapsed": false
   },
   "outputs": [],
   "source": [
    "df_train_dummy = df_train_dummy.drop(['Credit-Application-Result_Non-Creditworthy'], axis=1)"
   ]
  },
  {
   "cell_type": "code",
   "execution_count": 114,
   "metadata": {
    "collapsed": false
   },
   "outputs": [
    {
     "name": "stdout",
     "output_type": "stream",
     "text": [
      "<class 'pandas.core.frame.DataFrame'>\n",
      "Int64Index: 488 entries, 1 to 499\n",
      "Data columns (total 31 columns):\n",
      "Duration-of-Credit-Month                                        488 non-null int64\n",
      "Credit-Amount                                                   488 non-null int64\n",
      "Instalment-per-cent                                             488 non-null int64\n",
      "Most-valuable-available-asset                                   488 non-null int64\n",
      "Age-years                                                       488 non-null float64\n",
      "Type-of-apartment                                               488 non-null int64\n",
      "Occupation                                                      488 non-null int64\n",
      "No-of-dependents                                                488 non-null int64\n",
      "Telephone                                                       488 non-null int64\n",
      "Foreign-Worker                                                  488 non-null int64\n",
      "Credit-Application-Result_Creditworthy                          488 non-null uint8\n",
      "Account-Balance_No Account                                      488 non-null uint8\n",
      "Account-Balance_Some Balance                                    488 non-null uint8\n",
      "Payment-Status-of-Previous-Credit_No Problems (in this bank)    488 non-null uint8\n",
      "Payment-Status-of-Previous-Credit_Paid Up                       488 non-null uint8\n",
      "Payment-Status-of-Previous-Credit_Some Problems                 488 non-null uint8\n",
      "Purpose_Home Related                                            488 non-null uint8\n",
      "Purpose_New car                                                 488 non-null uint8\n",
      "Purpose_Other                                                   488 non-null uint8\n",
      "Purpose_Used car                                                488 non-null uint8\n",
      "Value-Savings-Stocks_< £100                                     488 non-null uint8\n",
      "Value-Savings-Stocks_None                                       488 non-null uint8\n",
      "Value-Savings-Stocks_£100-£1000                                 488 non-null uint8\n",
      "Length-of-current-employment_1-4 yrs                            488 non-null uint8\n",
      "Length-of-current-employment_4-7 yrs                            488 non-null uint8\n",
      "Length-of-current-employment_< 1yr                              488 non-null uint8\n",
      "Guarantors_None                                                 488 non-null uint8\n",
      "Guarantors_Yes                                                  488 non-null uint8\n",
      "Concurrent-Credits_Other Banks/Depts                            488 non-null uint8\n",
      "No-of-Credits-at-this-Bank_1                                    488 non-null uint8\n",
      "No-of-Credits-at-this-Bank_More than 1                          488 non-null uint8\n",
      "dtypes: float64(1), int64(9), uint8(21)\n",
      "memory usage: 51.9 KB\n"
     ]
    }
   ],
   "source": [
    "df_train_dummy.info()"
   ]
  },
  {
   "cell_type": "code",
   "execution_count": 115,
   "metadata": {
    "collapsed": true
   },
   "outputs": [],
   "source": [
    "from sklearn.feature_selection import SelectKBest"
   ]
  },
  {
   "cell_type": "code",
   "execution_count": 116,
   "metadata": {
    "collapsed": false
   },
   "outputs": [],
   "source": [
    "selection = SelectKBest(k=10)"
   ]
  },
  {
   "cell_type": "code",
   "execution_count": 118,
   "metadata": {
    "collapsed": false
   },
   "outputs": [
    {
     "name": "stderr",
     "output_type": "stream",
     "text": [
      "C:\\ProgramData\\Anaconda2\\lib\\site-packages\\sklearn\\feature_selection\\univariate_selection.py:113: UserWarning: Features [ 6 27] are constant.\n",
      "  UserWarning)\n",
      "C:\\ProgramData\\Anaconda2\\lib\\site-packages\\sklearn\\feature_selection\\univariate_selection.py:114: RuntimeWarning: invalid value encountered in divide\n",
      "  f = msb / msw\n"
     ]
    },
    {
     "data": {
      "text/plain": [
       "SelectKBest(k=10, score_func=<function f_classif at 0x000000003294A908>)"
      ]
     },
     "execution_count": 118,
     "metadata": {},
     "output_type": "execute_result"
    }
   ],
   "source": [
    "selection.fit(df_train_dummy.drop('Credit-Application-Result_Creditworthy', axis=1), df_train_dummy['Credit-Application-Result_Creditworthy'])"
   ]
  },
  {
   "cell_type": "code",
   "execution_count": 120,
   "metadata": {
    "collapsed": false
   },
   "outputs": [
    {
     "data": {
      "text/plain": [
       "30"
      ]
     },
     "execution_count": 120,
     "metadata": {},
     "output_type": "execute_result"
    }
   ],
   "source": [
    "len(selection.scores_)"
   ]
  },
  {
   "cell_type": "code",
   "execution_count": 123,
   "metadata": {
    "collapsed": false
   },
   "outputs": [],
   "source": [
    "features = df_train_dummy.drop('Credit-Application-Result_Creditworthy', axis=1).columns"
   ]
  },
  {
   "cell_type": "code",
   "execution_count": 135,
   "metadata": {
    "collapsed": false
   },
   "outputs": [
    {
     "data": {
      "text/plain": [
       "<Container object of 30 artists>"
      ]
     },
     "execution_count": 135,
     "metadata": {},
     "output_type": "execute_result"
    },
    {
     "data": {
      "image/png": "[encoded data removed]",
      "text/plain": [
       "<matplotlib.figure.Figure at 0x3a6ac7f0>"
      ]
     },
     "metadata": {},
     "output_type": "display_data"
    }
   ],
   "source": [
    "plt.figure(figsize=(12,8))\n",
    "plt.barh(np.arange(30), selection.scores_, tick_label=features)"
   ]
  },
  {
   "cell_type": "code",
   "execution_count": null,
   "metadata": {
    "collapsed": true
   },
   "outputs": [],
   "source": []
  }
 ],
 "metadata": {
  "kernelspec": {
   "display_name": "Python 2",
   "language": "python",
   "name": "python2"
  },
  "language_info": {
   "codemirror_mode": {
    "name": "ipython",
    "version": 2
   },
   "file_extension": ".py",
   "mimetype": "text/x-python",
   "name": "python",
   "nbconvert_exporter": "python",
   "pygments_lexer": "ipython2",
   "version": "2.7.13"
  }
 },
 "nbformat": 4,
 "nbformat_minor": 2
}

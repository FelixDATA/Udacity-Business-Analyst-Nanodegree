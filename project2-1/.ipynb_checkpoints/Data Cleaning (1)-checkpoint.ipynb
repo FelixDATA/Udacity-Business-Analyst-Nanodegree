{
 "cells": [
  {
   "cell_type": "markdown",
   "metadata": {},
   "source": [
    "# Creating an Analytical Dataset\n",
    "## Data Cleaning and Preparation\n",
    "Udacity Business Analyst Nanodegree Project #2.1"
   ]
  },
  {
   "cell_type": "markdown",
   "metadata": {},
   "source": [
    "### Import Libraries"
   ]
  },
  {
   "cell_type": "code",
   "execution_count": 1,
   "metadata": {
    "collapsed": true
   },
   "outputs": [],
   "source": [
    "import numpy as np\n",
    "import pandas as pd\n",
    "import re\n",
    "\n",
    "import matplotlib.pyplot as plt\n",
    "import seaborn as sns\n",
    "%matplotlib inline"
   ]
  },
  {
   "cell_type": "markdown",
   "metadata": {},
   "source": [
    "### Import Datasets"
   ]
  },
  {
   "cell_type": "code",
   "execution_count": 2,
   "metadata": {
    "collapsed": true
   },
   "outputs": [],
   "source": [
    "df_demographics = pd.read_csv('p2-wy-demographic-data.csv')\n",
    "df_naics = pd.read_csv('p2-wy-453910-naics-data.csv')\n",
    "df_population = pd.read_csv('p2-partially-parsed-wy-web-scrape.csv')\n",
    "df_sales = pd.read_csv('p2-2010-pawdacity-monthly-sales.csv')"
   ]
  },
  {
   "cell_type": "markdown",
   "metadata": {
    "collapsed": true
   },
   "source": [
    "### Data Exploration and Cleaning"
   ]
  },
  {
   "cell_type": "markdown",
   "metadata": {},
   "source": [
    "#### NAICS Market Data"
   ]
  },
  {
   "cell_type": "code",
   "execution_count": 3,
   "metadata": {},
   "outputs": [
    {
     "data": {
      "text/html": [
       "<div>\n",
       "<table border=\"1\" class=\"dataframe\">\n",
       "  <thead>\n",
       "    <tr style=\"text-align: right;\">\n",
       "      <th></th>\n",
       "      <th>BUSINESS NAME</th>\n",
       "      <th>PHYSICAL CITY NAME</th>\n",
       "      <th>SALES VOLUME</th>\n",
       "      <th>CASS_LastLine</th>\n",
       "    </tr>\n",
       "  </thead>\n",
       "  <tbody>\n",
       "    <tr>\n",
       "      <th>0</th>\n",
       "      <td>Mile High Mobile Pet LLC</td>\n",
       "      <td>Cheyenne</td>\n",
       "      <td>300000</td>\n",
       "      <td>Cheyenne, WY 82007-3528</td>\n",
       "    </tr>\n",
       "    <tr>\n",
       "      <th>1</th>\n",
       "      <td>Pets City Inc</td>\n",
       "      <td>Cheyenne</td>\n",
       "      <td>640000</td>\n",
       "      <td>Cheyenne, WY 82009-4851</td>\n",
       "    </tr>\n",
       "    <tr>\n",
       "      <th>2</th>\n",
       "      <td>Petco Animal Sups Stores Inc</td>\n",
       "      <td>Cheyenne</td>\n",
       "      <td>0</td>\n",
       "      <td>Cheyenne, WY 82009-4945</td>\n",
       "    </tr>\n",
       "    <tr>\n",
       "      <th>3</th>\n",
       "      <td>Pet-A-Care</td>\n",
       "      <td>Cheyenne</td>\n",
       "      <td>81000</td>\n",
       "      <td>Cheyenne, WY 82009-1009</td>\n",
       "    </tr>\n",
       "    <tr>\n",
       "      <th>4</th>\n",
       "      <td>Muddy Paws Pet Salon</td>\n",
       "      <td>Laramie</td>\n",
       "      <td>76000</td>\n",
       "      <td>Laramie, WY 82070-8979</td>\n",
       "    </tr>\n",
       "  </tbody>\n",
       "</table>\n",
       "</div>"
      ],
      "text/plain": [
       "                  BUSINESS NAME PHYSICAL CITY NAME  SALES VOLUME  \\\n",
       "0      Mile High Mobile Pet LLC           Cheyenne        300000   \n",
       "1                 Pets City Inc           Cheyenne        640000   \n",
       "2  Petco Animal Sups Stores Inc           Cheyenne             0   \n",
       "3                    Pet-A-Care           Cheyenne         81000   \n",
       "4          Muddy Paws Pet Salon            Laramie         76000   \n",
       "\n",
       "             CASS_LastLine  \n",
       "0  Cheyenne, WY 82007-3528  \n",
       "1  Cheyenne, WY 82009-4851  \n",
       "2  Cheyenne, WY 82009-4945  \n",
       "3  Cheyenne, WY 82009-1009  \n",
       "4   Laramie, WY 82070-8979  "
      ]
     },
     "execution_count": 3,
     "metadata": {},
     "output_type": "execute_result"
    }
   ],
   "source": [
    "df_naics.head()"
   ]
  },
  {
   "cell_type": "markdown",
   "metadata": {},
   "source": [
    "#### U.S. Census Population Data"
   ]
  },
  {
   "cell_type": "code",
   "execution_count": 4,
   "metadata": {},
   "outputs": [
    {
     "data": {
      "text/html": [
       "<div>\n",
       "<table border=\"1\" class=\"dataframe\">\n",
       "  <thead>\n",
       "    <tr style=\"text-align: right;\">\n",
       "      <th></th>\n",
       "      <th></th>\n",
       "      <th>2000 Census</th>\n",
       "      <th>2010 Census</th>\n",
       "      <th>2014 Estimate</th>\n",
       "    </tr>\n",
       "    <tr>\n",
       "      <th>City</th>\n",
       "      <th>County</th>\n",
       "      <th></th>\n",
       "      <th></th>\n",
       "      <th></th>\n",
       "    </tr>\n",
       "  </thead>\n",
       "  <tbody>\n",
       "    <tr>\n",
       "      <th>Afton</th>\n",
       "      <th>Lincoln</th>\n",
       "      <td>1818</td>\n",
       "      <td>1911</td>\n",
       "      <td>1968</td>\n",
       "    </tr>\n",
       "    <tr>\n",
       "      <th>Albin</th>\n",
       "      <th>Laramie</th>\n",
       "      <td>120</td>\n",
       "      <td>181</td>\n",
       "      <td>185</td>\n",
       "    </tr>\n",
       "    <tr>\n",
       "      <th>Alpine</th>\n",
       "      <th>Lincoln</th>\n",
       "      <td>550</td>\n",
       "      <td>828</td>\n",
       "      <td>845</td>\n",
       "    </tr>\n",
       "    <tr>\n",
       "      <th>Baggs</th>\n",
       "      <th>Carbon</th>\n",
       "      <td>348</td>\n",
       "      <td>440</td>\n",
       "      <td>439</td>\n",
       "    </tr>\n",
       "    <tr>\n",
       "      <th>Bairoil</th>\n",
       "      <th>Sweetwater</th>\n",
       "      <td>97</td>\n",
       "      <td>106</td>\n",
       "      <td>107</td>\n",
       "    </tr>\n",
       "  </tbody>\n",
       "</table>\n",
       "</div>"
      ],
      "text/plain": [
       "                   2000 Census 2010 Census 2014 Estimate\n",
       "City    County                                          \n",
       "Afton   Lincoln           1818        1911          1968\n",
       "Albin   Laramie            120         181           185\n",
       "Alpine  Lincoln            550         828           845\n",
       "Baggs   Carbon             348         440           439\n",
       "Bairoil Sweetwater          97         106           107"
      ]
     },
     "execution_count": 4,
     "metadata": {},
     "output_type": "execute_result"
    }
   ],
   "source": [
    "df_population = df_population.dropna(subset=['City|County'])\n",
    "df_population['City'], df_population['County'] = df_population['City|County'].str.split('|').str\n",
    "df_population['City'] = df_population['City'].apply(lambda x: x.replace('?',''))\n",
    "df_population['City'] = df_population['City'].apply(lambda x: x.strip())\n",
    "df_population['2014 Estimate'] = df_population['2014 Estimate'].apply(lambda x: x.split('<')[1].replace('td>','').replace(',',''))\n",
    "df_population['2000 Census'] = df_population['2000 Census'].apply(lambda x: x.split('<')[1].replace('td>','').replace(',',''))\n",
    "df_population['2010 Census'] = df_population['2010 Census'].apply(lambda x: x.split('<')[1].replace('td>','').replace(',',''))\n",
    "df_population = df_population[['City', 'County', '2000 Census', '2010 Census', '2014 Estimate']]\n",
    "df_population = df_population.set_index(['City', 'County'])\n",
    "df_population.head()"
   ]
  },
  {
   "cell_type": "markdown",
   "metadata": {},
   "source": [
    "#### Wyoming Demographics Data by City/County w/ Population Join"
   ]
  },
  {
   "cell_type": "code",
   "execution_count": 5,
   "metadata": {},
   "outputs": [
    {
     "data": {
      "text/html": [
       "<div>\n",
       "<table border=\"1\" class=\"dataframe\">\n",
       "  <thead>\n",
       "    <tr style=\"text-align: right;\">\n",
       "      <th></th>\n",
       "      <th>County</th>\n",
       "      <th>Land Area</th>\n",
       "      <th>Households with Under 18</th>\n",
       "      <th>Population Density</th>\n",
       "      <th>Total Families</th>\n",
       "      <th>2000 Census</th>\n",
       "      <th>2010 Census</th>\n",
       "      <th>2014 Estimate</th>\n",
       "    </tr>\n",
       "    <tr>\n",
       "      <th>City</th>\n",
       "      <th></th>\n",
       "      <th></th>\n",
       "      <th></th>\n",
       "      <th></th>\n",
       "      <th></th>\n",
       "      <th></th>\n",
       "      <th></th>\n",
       "      <th></th>\n",
       "    </tr>\n",
       "  </thead>\n",
       "  <tbody>\n",
       "    <tr>\n",
       "      <th>Afton</th>\n",
       "      <td>Lincoln</td>\n",
       "      <td>853.806650</td>\n",
       "      <td>497</td>\n",
       "      <td>0.93</td>\n",
       "      <td>1040.41</td>\n",
       "      <td>1818</td>\n",
       "      <td>1911</td>\n",
       "      <td>1968</td>\n",
       "    </tr>\n",
       "    <tr>\n",
       "      <th>Albin</th>\n",
       "      <td>Laramie</td>\n",
       "      <td>7.685902</td>\n",
       "      <td>37</td>\n",
       "      <td>0.10</td>\n",
       "      <td>74.87</td>\n",
       "      <td>120</td>\n",
       "      <td>181</td>\n",
       "      <td>185</td>\n",
       "    </tr>\n",
       "    <tr>\n",
       "      <th>Alpine</th>\n",
       "      <td>Lincoln</td>\n",
       "      <td>366.598892</td>\n",
       "      <td>213</td>\n",
       "      <td>0.40</td>\n",
       "      <td>446.72</td>\n",
       "      <td>550</td>\n",
       "      <td>828</td>\n",
       "      <td>845</td>\n",
       "    </tr>\n",
       "    <tr>\n",
       "      <th>Baggs</th>\n",
       "      <td>Carbon</td>\n",
       "      <td>253.240322</td>\n",
       "      <td>62</td>\n",
       "      <td>0.06</td>\n",
       "      <td>129.53</td>\n",
       "      <td>348</td>\n",
       "      <td>440</td>\n",
       "      <td>439</td>\n",
       "    </tr>\n",
       "    <tr>\n",
       "      <th>Bairoil</th>\n",
       "      <td>Sweetwater</td>\n",
       "      <td>29.459830</td>\n",
       "      <td>18</td>\n",
       "      <td>0.01</td>\n",
       "      <td>33.70</td>\n",
       "      <td>97</td>\n",
       "      <td>106</td>\n",
       "      <td>107</td>\n",
       "    </tr>\n",
       "  </tbody>\n",
       "</table>\n",
       "</div>"
      ],
      "text/plain": [
       "             County   Land Area  Households with Under 18  Population Density  \\\n",
       "City                                                                            \n",
       "Afton       Lincoln  853.806650                       497                0.93   \n",
       "Albin       Laramie    7.685902                        37                0.10   \n",
       "Alpine      Lincoln  366.598892                       213                0.40   \n",
       "Baggs        Carbon  253.240322                        62                0.06   \n",
       "Bairoil  Sweetwater   29.459830                        18                0.01   \n",
       "\n",
       "         Total Families 2000 Census 2010 Census 2014 Estimate  \n",
       "City                                                           \n",
       "Afton           1040.41        1818        1911          1968  \n",
       "Albin             74.87         120         181           185  \n",
       "Alpine           446.72         550         828           845  \n",
       "Baggs            129.53         348         440           439  \n",
       "Bairoil           33.70          97         106           107  "
      ]
     },
     "execution_count": 5,
     "metadata": {},
     "output_type": "execute_result"
    }
   ],
   "source": [
    "df_demographics = df_demographics.set_index(['City', 'County'])\n",
    "df_demographics = df_demographics.join(df_population, how='inner')\n",
    "df_demographics = df_demographics.reset_index().set_index('City')\n",
    "df_demographics.head()"
   ]
  },
  {
   "cell_type": "markdown",
   "metadata": {},
   "source": [
    "#### Pawdacity 2010 Sales Data by Month"
   ]
  },
  {
   "cell_type": "code",
   "execution_count": 6,
   "metadata": {},
   "outputs": [
    {
     "data": {
      "text/html": [
       "<div>\n",
       "<table border=\"1\" class=\"dataframe\">\n",
       "  <thead>\n",
       "    <tr style=\"text-align: right;\">\n",
       "      <th></th>\n",
       "      <th>NAME</th>\n",
       "      <th>ADDRESS</th>\n",
       "      <th>CITY</th>\n",
       "      <th>STATE</th>\n",
       "      <th>ZIP</th>\n",
       "      <th>January</th>\n",
       "      <th>February</th>\n",
       "      <th>March</th>\n",
       "      <th>April</th>\n",
       "      <th>May</th>\n",
       "      <th>June</th>\n",
       "      <th>July</th>\n",
       "      <th>September</th>\n",
       "      <th>October</th>\n",
       "      <th>November</th>\n",
       "      <th>December</th>\n",
       "      <th>August</th>\n",
       "    </tr>\n",
       "  </thead>\n",
       "  <tbody>\n",
       "    <tr>\n",
       "      <th>0</th>\n",
       "      <td>Pawdacity</td>\n",
       "      <td>509 Fort St # A</td>\n",
       "      <td>Buffalo</td>\n",
       "      <td>WY</td>\n",
       "      <td>82834</td>\n",
       "      <td>16200</td>\n",
       "      <td>13392</td>\n",
       "      <td>14688</td>\n",
       "      <td>17064</td>\n",
       "      <td>18360</td>\n",
       "      <td>14040</td>\n",
       "      <td>12960</td>\n",
       "      <td>15984</td>\n",
       "      <td>13392</td>\n",
       "      <td>13176</td>\n",
       "      <td>16848</td>\n",
       "      <td>19224</td>\n",
       "    </tr>\n",
       "    <tr>\n",
       "      <th>1</th>\n",
       "      <td>Pawdacity</td>\n",
       "      <td>601 SE Wyoming Blvd Unit 252</td>\n",
       "      <td>Casper</td>\n",
       "      <td>WY</td>\n",
       "      <td>82609</td>\n",
       "      <td>29160</td>\n",
       "      <td>21600</td>\n",
       "      <td>27000</td>\n",
       "      <td>27648</td>\n",
       "      <td>29160</td>\n",
       "      <td>27216</td>\n",
       "      <td>25488</td>\n",
       "      <td>22896</td>\n",
       "      <td>25272</td>\n",
       "      <td>28944</td>\n",
       "      <td>27648</td>\n",
       "      <td>25704</td>\n",
       "    </tr>\n",
       "    <tr>\n",
       "      <th>2</th>\n",
       "      <td>Pawdacity</td>\n",
       "      <td>1400 Dell Range Blvd</td>\n",
       "      <td>Cheyenne</td>\n",
       "      <td>WY</td>\n",
       "      <td>82009</td>\n",
       "      <td>47520</td>\n",
       "      <td>44280</td>\n",
       "      <td>47088</td>\n",
       "      <td>46656</td>\n",
       "      <td>43200</td>\n",
       "      <td>45144</td>\n",
       "      <td>44064</td>\n",
       "      <td>47736</td>\n",
       "      <td>42984</td>\n",
       "      <td>44712</td>\n",
       "      <td>47304</td>\n",
       "      <td>45360</td>\n",
       "    </tr>\n",
       "    <tr>\n",
       "      <th>3</th>\n",
       "      <td>Pawdacity</td>\n",
       "      <td>3769 E Lincolnway</td>\n",
       "      <td>Cheyenne</td>\n",
       "      <td>WY</td>\n",
       "      <td>82001</td>\n",
       "      <td>32400</td>\n",
       "      <td>26352</td>\n",
       "      <td>31968</td>\n",
       "      <td>30888</td>\n",
       "      <td>30456</td>\n",
       "      <td>32832</td>\n",
       "      <td>29808</td>\n",
       "      <td>30780</td>\n",
       "      <td>31536</td>\n",
       "      <td>30024</td>\n",
       "      <td>32616</td>\n",
       "      <td>32184</td>\n",
       "    </tr>\n",
       "    <tr>\n",
       "      <th>4</th>\n",
       "      <td>Pawdacity</td>\n",
       "      <td>2625 Big Horn Ave</td>\n",
       "      <td>Cody</td>\n",
       "      <td>WY</td>\n",
       "      <td>82414</td>\n",
       "      <td>19440</td>\n",
       "      <td>15984</td>\n",
       "      <td>19008</td>\n",
       "      <td>18144</td>\n",
       "      <td>16632</td>\n",
       "      <td>17496</td>\n",
       "      <td>18792</td>\n",
       "      <td>19224</td>\n",
       "      <td>18144</td>\n",
       "      <td>18576</td>\n",
       "      <td>16632</td>\n",
       "      <td>20304</td>\n",
       "    </tr>\n",
       "  </tbody>\n",
       "</table>\n",
       "</div>"
      ],
      "text/plain": [
       "        NAME                       ADDRESS      CITY STATE    ZIP  January  \\\n",
       "0  Pawdacity               509 Fort St # A   Buffalo    WY  82834    16200   \n",
       "1  Pawdacity  601 SE Wyoming Blvd Unit 252    Casper    WY  82609    29160   \n",
       "2  Pawdacity          1400 Dell Range Blvd  Cheyenne    WY  82009    47520   \n",
       "3  Pawdacity             3769 E Lincolnway  Cheyenne    WY  82001    32400   \n",
       "4  Pawdacity             2625 Big Horn Ave      Cody    WY  82414    19440   \n",
       "\n",
       "   February  March  April    May   June   July  September  October  November  \\\n",
       "0     13392  14688  17064  18360  14040  12960      15984    13392     13176   \n",
       "1     21600  27000  27648  29160  27216  25488      22896    25272     28944   \n",
       "2     44280  47088  46656  43200  45144  44064      47736    42984     44712   \n",
       "3     26352  31968  30888  30456  32832  29808      30780    31536     30024   \n",
       "4     15984  19008  18144  16632  17496  18792      19224    18144     18576   \n",
       "\n",
       "   December  August  \n",
       "0     16848   19224  \n",
       "1     27648   25704  \n",
       "2     47304   45360  \n",
       "3     32616   32184  \n",
       "4     16632   20304  "
      ]
     },
     "execution_count": 6,
     "metadata": {},
     "output_type": "execute_result"
    }
   ],
   "source": [
    "df_sales['August'] = df_sales.pop('August ')\n",
    "df_sales.head()"
   ]
  },
  {
   "cell_type": "markdown",
   "metadata": {},
   "source": [
    "### Data Blending / Preparation"
   ]
  },
  {
   "cell_type": "code",
   "execution_count": 7,
   "metadata": {
    "collapsed": true
   },
   "outputs": [],
   "source": [
    "# Group sales by city\n",
    "groupby_city = df_sales.groupby(by='CITY')\n",
    "months = ['January', 'February', 'March', 'April', 'May', 'June',\n",
    "          'July', 'August', 'September', 'October', 'November', 'December']\n",
    "df_sales_by_city = \\\n",
    "    groupby_city[months].agg('sum')"
   ]
  },
  {
   "cell_type": "code",
   "execution_count": 8,
   "metadata": {},
   "outputs": [
    {
     "data": {
      "text/plain": [
       "2010 Census Population      2.138620e+05\n",
       "Total Sales                 3.773304e+06\n",
       "Households with Under 18    3.406400e+04\n",
       "Land Area                   3.307138e+04\n",
       "Population Density          6.280000e+01\n",
       "Total Families              6.265279e+04\n",
       "dtype: float64"
      ]
     },
     "execution_count": 8,
     "metadata": {},
     "output_type": "execute_result"
    }
   ],
   "source": [
    "# Blend demographics/population and sales dataframes to create training dataframe\n",
    "df_train = df_sales_by_city.join(df_demographics)\n",
    "df_train['Total Sales'] = df_train[months].sum(axis=1)\n",
    "df_train.drop(months + ['2000 Census', '2014 Estimate', 'County'], axis=1, inplace=True)\n",
    "df_train['2010 Census Population'] = df_train.pop('2010 Census')\n",
    "df_train = df_train.apply(lambda x: x.apply(float))\n",
    "# Rearrange Columns\n",
    "df_train = df_train[['2010 Census Population', 'Total Sales',\n",
    "                     'Households with Under 18', 'Land Area',\n",
    "                     'Population Density', 'Total Families']]\n",
    "\n",
    "# Print sum of each feature\n",
    "df_train.sum()"
   ]
  },
  {
   "cell_type": "code",
   "execution_count": 9,
   "metadata": {},
   "outputs": [
    {
     "data": {
      "text/html": [
       "<div>\n",
       "<table border=\"1\" class=\"dataframe\">\n",
       "  <thead>\n",
       "    <tr style=\"text-align: right;\">\n",
       "      <th></th>\n",
       "      <th>2010 Census Population</th>\n",
       "      <th>Total Sales</th>\n",
       "      <th>Households with Under 18</th>\n",
       "      <th>Land Area</th>\n",
       "      <th>Population Density</th>\n",
       "      <th>Total Families</th>\n",
       "    </tr>\n",
       "  </thead>\n",
       "  <tbody>\n",
       "    <tr>\n",
       "      <th>Buffalo</th>\n",
       "      <td>4585.0</td>\n",
       "      <td>1.853280e+05</td>\n",
       "      <td>746.000000</td>\n",
       "      <td>3115.507500</td>\n",
       "      <td>1.550000</td>\n",
       "      <td>1819.500000</td>\n",
       "    </tr>\n",
       "    <tr>\n",
       "      <th>Casper</th>\n",
       "      <td>35316.0</td>\n",
       "      <td>3.177360e+05</td>\n",
       "      <td>7788.000000</td>\n",
       "      <td>3894.309100</td>\n",
       "      <td>11.160000</td>\n",
       "      <td>8756.320000</td>\n",
       "    </tr>\n",
       "    <tr>\n",
       "      <th>Cheyenne</th>\n",
       "      <td>59466.0</td>\n",
       "      <td>9.178920e+05</td>\n",
       "      <td>7158.000000</td>\n",
       "      <td>1500.178400</td>\n",
       "      <td>20.340000</td>\n",
       "      <td>14612.640000</td>\n",
       "    </tr>\n",
       "    <tr>\n",
       "      <th>Cody</th>\n",
       "      <td>9520.0</td>\n",
       "      <td>2.183760e+05</td>\n",
       "      <td>1403.000000</td>\n",
       "      <td>2998.956960</td>\n",
       "      <td>1.820000</td>\n",
       "      <td>3515.620000</td>\n",
       "    </tr>\n",
       "    <tr>\n",
       "      <th>Douglas</th>\n",
       "      <td>6120.0</td>\n",
       "      <td>2.080080e+05</td>\n",
       "      <td>832.000000</td>\n",
       "      <td>1829.465100</td>\n",
       "      <td>1.460000</td>\n",
       "      <td>1744.080000</td>\n",
       "    </tr>\n",
       "    <tr>\n",
       "      <th>Evanston</th>\n",
       "      <td>12359.0</td>\n",
       "      <td>2.838240e+05</td>\n",
       "      <td>1486.000000</td>\n",
       "      <td>999.497100</td>\n",
       "      <td>4.950000</td>\n",
       "      <td>2712.640000</td>\n",
       "    </tr>\n",
       "    <tr>\n",
       "      <th>Gillette</th>\n",
       "      <td>29087.0</td>\n",
       "      <td>5.431320e+05</td>\n",
       "      <td>4052.000000</td>\n",
       "      <td>2748.852900</td>\n",
       "      <td>5.800000</td>\n",
       "      <td>7189.430000</td>\n",
       "    </tr>\n",
       "    <tr>\n",
       "      <th>Powell</th>\n",
       "      <td>6314.0</td>\n",
       "      <td>2.339280e+05</td>\n",
       "      <td>1251.000000</td>\n",
       "      <td>2673.574550</td>\n",
       "      <td>1.620000</td>\n",
       "      <td>3134.180000</td>\n",
       "    </tr>\n",
       "    <tr>\n",
       "      <th>Riverton</th>\n",
       "      <td>10615.0</td>\n",
       "      <td>3.032640e+05</td>\n",
       "      <td>2680.000000</td>\n",
       "      <td>4796.859815</td>\n",
       "      <td>2.340000</td>\n",
       "      <td>5556.490000</td>\n",
       "    </tr>\n",
       "    <tr>\n",
       "      <th>Rock Springs</th>\n",
       "      <td>23036.0</td>\n",
       "      <td>2.535840e+05</td>\n",
       "      <td>4022.000000</td>\n",
       "      <td>6620.201916</td>\n",
       "      <td>2.780000</td>\n",
       "      <td>7572.180000</td>\n",
       "    </tr>\n",
       "    <tr>\n",
       "      <th>Sheridan</th>\n",
       "      <td>17444.0</td>\n",
       "      <td>3.082320e+05</td>\n",
       "      <td>2646.000000</td>\n",
       "      <td>1893.977048</td>\n",
       "      <td>8.980000</td>\n",
       "      <td>6039.710000</td>\n",
       "    </tr>\n",
       "    <tr>\n",
       "      <th>TOTAL</th>\n",
       "      <td>213862.0</td>\n",
       "      <td>3.773304e+06</td>\n",
       "      <td>34064.000000</td>\n",
       "      <td>33071.380389</td>\n",
       "      <td>62.800000</td>\n",
       "      <td>62652.790000</td>\n",
       "    </tr>\n",
       "    <tr>\n",
       "      <th>AVERAGE</th>\n",
       "      <td>19442.0</td>\n",
       "      <td>3.430276e+05</td>\n",
       "      <td>3096.727273</td>\n",
       "      <td>3006.489126</td>\n",
       "      <td>5.709091</td>\n",
       "      <td>5695.708182</td>\n",
       "    </tr>\n",
       "  </tbody>\n",
       "</table>\n",
       "</div>"
      ],
      "text/plain": [
       "              2010 Census Population   Total Sales  Households with Under 18  \\\n",
       "Buffalo                       4585.0  1.853280e+05                746.000000   \n",
       "Casper                       35316.0  3.177360e+05               7788.000000   \n",
       "Cheyenne                     59466.0  9.178920e+05               7158.000000   \n",
       "Cody                          9520.0  2.183760e+05               1403.000000   \n",
       "Douglas                       6120.0  2.080080e+05                832.000000   \n",
       "Evanston                     12359.0  2.838240e+05               1486.000000   \n",
       "Gillette                     29087.0  5.431320e+05               4052.000000   \n",
       "Powell                        6314.0  2.339280e+05               1251.000000   \n",
       "Riverton                     10615.0  3.032640e+05               2680.000000   \n",
       "Rock Springs                 23036.0  2.535840e+05               4022.000000   \n",
       "Sheridan                     17444.0  3.082320e+05               2646.000000   \n",
       "TOTAL                       213862.0  3.773304e+06              34064.000000   \n",
       "AVERAGE                      19442.0  3.430276e+05               3096.727273   \n",
       "\n",
       "                 Land Area  Population Density  Total Families  \n",
       "Buffalo        3115.507500            1.550000     1819.500000  \n",
       "Casper         3894.309100           11.160000     8756.320000  \n",
       "Cheyenne       1500.178400           20.340000    14612.640000  \n",
       "Cody           2998.956960            1.820000     3515.620000  \n",
       "Douglas        1829.465100            1.460000     1744.080000  \n",
       "Evanston        999.497100            4.950000     2712.640000  \n",
       "Gillette       2748.852900            5.800000     7189.430000  \n",
       "Powell         2673.574550            1.620000     3134.180000  \n",
       "Riverton       4796.859815            2.340000     5556.490000  \n",
       "Rock Springs   6620.201916            2.780000     7572.180000  \n",
       "Sheridan       1893.977048            8.980000     6039.710000  \n",
       "TOTAL         33071.380389           62.800000    62652.790000  \n",
       "AVERAGE        3006.489126            5.709091     5695.708182  "
      ]
     },
     "execution_count": 9,
     "metadata": {},
     "output_type": "execute_result"
    }
   ],
   "source": [
    "df_train_all = df_train.append(pd.DataFrame(df_train.sum(), columns=['TOTAL']).T)\n",
    "df_train_all = df_train_all.append(pd.DataFrame(df_train.mean(), columns=['AVERAGE']).T)\n",
    "df_train_all"
   ]
  },
  {
   "cell_type": "markdown",
   "metadata": {},
   "source": [
    "### Outlier Detection"
   ]
  },
  {
   "cell_type": "code",
   "execution_count": 10,
   "metadata": {},
   "outputs": [
    {
     "name": "stdout",
     "output_type": "stream",
     "text": [
      "2010 Census Population exceeds upper fence in Cheyenne\n",
      "Total Sales exceeds upper fence in Cheyenne\n",
      "Population Density exceeds upper fence in Cheyenne\n",
      "Total Families exceeds upper fence in Cheyenne\n",
      "Total Sales exceeds upper fence in Gillette\n",
      "Land Area exceeds upper fence in Rock Springs\n"
     ]
    }
   ],
   "source": [
    "IQR = df_train.quantile(q=0.75)-df_train.quantile(q=0.25)\n",
    "Upper_Fence = df_train.quantile(q=0.75) + 1.5*IQR\n",
    "Lower_Fence = df_train.quantile(q=0.25) - 1.5*IQR\n",
    "\n",
    "for row, value in df_train.iterrows():\n",
    "#     print(row)\n",
    "    for key in value.keys():\n",
    "        if value[key] > Upper_Fence[key]:\n",
    "            print(key + ' exceeds upper fence in ' + row)\n",
    "        elif value[key] < Lower_Fence[key]:\n",
    "            print(key + ' exceeds lower fence in ' + row)"
   ]
  },
  {
   "cell_type": "code",
   "execution_count": 11,
   "metadata": {},
   "outputs": [
    {
     "data": {
      "text/plain": [
       "<seaborn.axisgrid.PairGrid at 0xd07e9b0>"
      ]
     },
     "execution_count": 11,
     "metadata": {},
     "output_type": "execute_result"
    },
    {
     "data": {
      "image/png": "[encoded data removed]",
      "text/plain": [
       "<matplotlib.figure.Figure at 0xd07e898>"
      ]
     },
     "metadata": {},
     "output_type": "display_data"
    }
   ],
   "source": [
    "sns.pairplot(df_train.reset_index(), hue='CITY', plot_kws={'s': 200})"
   ]
  },
  {
   "cell_type": "code",
   "execution_count": 12,
   "metadata": {},
   "outputs": [
    {
     "data": {
      "text/plain": [
       "<matplotlib.axes._subplots.AxesSubplot at 0x131f2ac8>"
      ]
     },
     "execution_count": 12,
     "metadata": {},
     "output_type": "execute_result"
    },
    {
     "name": "stderr",
     "output_type": "stream",
     "text": [
      "C:\\ProgramData\\Anaconda2\\lib\\site-packages\\matplotlib\\transforms.py:661: RuntimeWarning: invalid value encountered in absolute\n",
      "  inside = ((abs(dx0 + dx1) + abs(dy0 + dy1)) == 0)\n"
     ]
    },
    {
     "data": {
      "image/png": "[encoded data removed]",
      "text/plain": [
       "<matplotlib.figure.Figure at 0x124bc198>"
      ]
     },
     "metadata": {},
     "output_type": "display_data"
    }
   ],
   "source": [
    "# sns.regplot(data=df_train.reset_index(), x='Land Area', y='Total Sales')\n",
    "sns.pointplot(data=df_train.reset_index(), x='2010 Census Population', y='Total Sales', hue='CITY')"
   ]
  },
  {
   "cell_type": "code",
   "execution_count": 13,
   "metadata": {},
   "outputs": [
    {
     "data": {
      "text/plain": [
       "<matplotlib.axes._subplots.AxesSubplot at 0x14a63a20>"
      ]
     },
     "execution_count": 13,
     "metadata": {},
     "output_type": "execute_result"
    },
    {
     "data": {
      "image/png": "[encoded data removed]",
      "text/plain": [
       "<matplotlib.figure.Figure at 0x148bfc88>"
      ]
     },
     "metadata": {},
     "output_type": "display_data"
    }
   ],
   "source": [
    "sns.set_style('ticks')\n",
    "fig, (ax1, ax2, ax3) = plt.subplots(ncols=3, figsize=(25,6))\n",
    "sns.regplot(data=df_train, x='2010 Census Population', y='Total Sales', ax=ax1)\n",
    "sns.regplot(data=df_train, x='Population Density', y='Total Sales', ax=ax2)\n",
    "sns.regplot(data=df_train, x='Total Families', y='Total Sales', ax=ax3)"
   ]
  },
  {
   "cell_type": "code",
   "execution_count": 17,
   "metadata": {},
   "outputs": [
    {
     "data": {
      "text/html": [
       "<div>\n",
       "<table border=\"1\" class=\"dataframe\">\n",
       "  <thead>\n",
       "    <tr style=\"text-align: right;\">\n",
       "      <th></th>\n",
       "      <th>BUSINESS NAME</th>\n",
       "      <th>PHYSICAL CITY NAME</th>\n",
       "      <th>SALES VOLUME</th>\n",
       "      <th>CASS_LastLine</th>\n",
       "    </tr>\n",
       "  </thead>\n",
       "  <tbody>\n",
       "    <tr>\n",
       "      <th>0</th>\n",
       "      <td>Mile High Mobile Pet LLC</td>\n",
       "      <td>Cheyenne</td>\n",
       "      <td>300000</td>\n",
       "      <td>Cheyenne, WY 82007-3528</td>\n",
       "    </tr>\n",
       "    <tr>\n",
       "      <th>1</th>\n",
       "      <td>Pets City Inc</td>\n",
       "      <td>Cheyenne</td>\n",
       "      <td>640000</td>\n",
       "      <td>Cheyenne, WY 82009-4851</td>\n",
       "    </tr>\n",
       "    <tr>\n",
       "      <th>2</th>\n",
       "      <td>Petco Animal Sups Stores Inc</td>\n",
       "      <td>Cheyenne</td>\n",
       "      <td>0</td>\n",
       "      <td>Cheyenne, WY 82009-4945</td>\n",
       "    </tr>\n",
       "    <tr>\n",
       "      <th>3</th>\n",
       "      <td>Pet-A-Care</td>\n",
       "      <td>Cheyenne</td>\n",
       "      <td>81000</td>\n",
       "      <td>Cheyenne, WY 82009-1009</td>\n",
       "    </tr>\n",
       "    <tr>\n",
       "      <th>4</th>\n",
       "      <td>Muddy Paws Pet Salon</td>\n",
       "      <td>Laramie</td>\n",
       "      <td>76000</td>\n",
       "      <td>Laramie, WY 82070-8979</td>\n",
       "    </tr>\n",
       "  </tbody>\n",
       "</table>\n",
       "</div>"
      ],
      "text/plain": [
       "                  BUSINESS NAME PHYSICAL CITY NAME  SALES VOLUME  \\\n",
       "0      Mile High Mobile Pet LLC           Cheyenne        300000   \n",
       "1                 Pets City Inc           Cheyenne        640000   \n",
       "2  Petco Animal Sups Stores Inc           Cheyenne             0   \n",
       "3                    Pet-A-Care           Cheyenne         81000   \n",
       "4          Muddy Paws Pet Salon            Laramie         76000   \n",
       "\n",
       "             CASS_LastLine  \n",
       "0  Cheyenne, WY 82007-3528  \n",
       "1  Cheyenne, WY 82009-4851  \n",
       "2  Cheyenne, WY 82009-4945  \n",
       "3  Cheyenne, WY 82009-1009  \n",
       "4   Laramie, WY 82070-8979  "
      ]
     },
     "execution_count": 17,
     "metadata": {},
     "output_type": "execute_result"
    }
   ],
   "source": [
    "df_naics.head()"
   ]
  },
  {
   "cell_type": "code",
   "execution_count": 70,
   "metadata": {},
   "outputs": [],
   "source": [
    "df_naics['City'] = df_naics.pop('PHYSICAL CITY NAME')\n",
    "groupby_physical_city_name = df_naics.groupby('City')"
   ]
  },
  {
   "cell_type": "code",
   "execution_count": 71,
   "metadata": {},
   "outputs": [],
   "source": [
    "df_competitors=groupby_physical_city_name.agg('sum')"
   ]
  },
  {
   "cell_type": "code",
   "execution_count": 72,
   "metadata": {},
   "outputs": [
    {
     "name": "stdout",
     "output_type": "stream",
     "text": [
      "10\n",
      "['Worland', 'Wheatland', 'Saratoga', 'Laramie', 'Lander', 'Kemmerer', 'Jackson', 'Evansville', 'Dubois', 'Alpine']\n"
     ]
    }
   ],
   "source": [
    "possible_cities = list(df_competitors[df_competitors['SALES VOLUME']<500000].index)\n",
    "use_cities = []\n",
    "while len(possible_cities) > 0:\n",
    "    city = possible_cities.pop()\n",
    "    if city not in list(df_train_all.index):\n",
    "        use_cities.append(city)\n",
    "possible_cities = use_cities\n",
    "print(len(possible_cities))\n",
    "print(possible_cities)"
   ]
  },
  {
   "cell_type": "code",
   "execution_count": 84,
   "metadata": {},
   "outputs": [],
   "source": [
    "df_possible_cities = df_demographics.loc[possible_cities]\n",
    "df_possible_cities = df_possible_cities.reset_index().merge(df_competitors.reset_index(), on='City')"
   ]
  },
  {
   "cell_type": "code",
   "execution_count": 93,
   "metadata": {},
   "outputs": [],
   "source": [
    "df_possible_cities['2014 Estimate'] = df_possible_cities['2014 Estimate'].apply(int)"
   ]
  },
  {
   "cell_type": "code",
   "execution_count": 95,
   "metadata": {},
   "outputs": [],
   "source": [
    "df_possible_cities = df_possible_cities[df_possible_cities['2014 Estimate'] > 4000]"
   ]
  },
  {
   "cell_type": "code",
   "execution_count": 96,
   "metadata": {},
   "outputs": [
    {
     "data": {
      "text/html": [
       "<div>\n",
       "<table border=\"1\" class=\"dataframe\">\n",
       "  <thead>\n",
       "    <tr style=\"text-align: right;\">\n",
       "      <th></th>\n",
       "      <th>City</th>\n",
       "      <th>County</th>\n",
       "      <th>Land Area</th>\n",
       "      <th>Households with Under 18</th>\n",
       "      <th>Population Density</th>\n",
       "      <th>Total Families</th>\n",
       "      <th>2000 Census</th>\n",
       "      <th>2010 Census</th>\n",
       "      <th>2014 Estimate</th>\n",
       "      <th>SALES VOLUME</th>\n",
       "    </tr>\n",
       "  </thead>\n",
       "  <tbody>\n",
       "    <tr>\n",
       "      <th>0</th>\n",
       "      <td>Worland</td>\n",
       "      <td>Washakie</td>\n",
       "      <td>1294.105755</td>\n",
       "      <td>595</td>\n",
       "      <td>2.18</td>\n",
       "      <td>1364.32</td>\n",
       "      <td>5250</td>\n",
       "      <td>5487</td>\n",
       "      <td>5366</td>\n",
       "      <td>169000</td>\n",
       "    </tr>\n",
       "    <tr>\n",
       "      <th>3</th>\n",
       "      <td>Laramie</td>\n",
       "      <td>Albany</td>\n",
       "      <td>2513.745235</td>\n",
       "      <td>2075</td>\n",
       "      <td>5.19</td>\n",
       "      <td>4668.93</td>\n",
       "      <td>27204</td>\n",
       "      <td>30816</td>\n",
       "      <td>32081</td>\n",
       "      <td>76000</td>\n",
       "    </tr>\n",
       "    <tr>\n",
       "      <th>4</th>\n",
       "      <td>Lander</td>\n",
       "      <td>Fremont</td>\n",
       "      <td>3346.809340</td>\n",
       "      <td>1870</td>\n",
       "      <td>1.63</td>\n",
       "      <td>3876.81</td>\n",
       "      <td>6867</td>\n",
       "      <td>7487</td>\n",
       "      <td>7642</td>\n",
       "      <td>152197</td>\n",
       "    </tr>\n",
       "    <tr>\n",
       "      <th>6</th>\n",
       "      <td>Jackson</td>\n",
       "      <td>Teton</td>\n",
       "      <td>1757.659200</td>\n",
       "      <td>1078</td>\n",
       "      <td>2.36</td>\n",
       "      <td>2313.08</td>\n",
       "      <td>8647</td>\n",
       "      <td>9577</td>\n",
       "      <td>10449</td>\n",
       "      <td>182000</td>\n",
       "    </tr>\n",
       "  </tbody>\n",
       "</table>\n",
       "</div>"
      ],
      "text/plain": [
       "      City    County    Land Area  Households with Under 18  \\\n",
       "0  Worland  Washakie  1294.105755                       595   \n",
       "3  Laramie    Albany  2513.745235                      2075   \n",
       "4   Lander   Fremont  3346.809340                      1870   \n",
       "6  Jackson     Teton  1757.659200                      1078   \n",
       "\n",
       "   Population Density  Total Families 2000 Census 2010 Census  2014 Estimate  \\\n",
       "0                2.18         1364.32        5250        5487           5366   \n",
       "3                5.19         4668.93       27204       30816          32081   \n",
       "4                1.63         3876.81        6867        7487           7642   \n",
       "6                2.36         2313.08        8647        9577          10449   \n",
       "\n",
       "   SALES VOLUME  \n",
       "0        169000  \n",
       "3         76000  \n",
       "4        152197  \n",
       "6        182000  "
      ]
     },
     "execution_count": 96,
     "metadata": {},
     "output_type": "execute_result"
    }
   ],
   "source": [
    "df_possible_cities"
   ]
  },
  {
   "cell_type": "code",
   "execution_count": 126,
   "metadata": {
    "collapsed": true
   },
   "outputs": [],
   "source": [
    "features = ['Land Area',\n",
    "            'Total Families']\n",
    "# features = ['Land Area',\n",
    "#             '2010 Census Population']"
   ]
  },
  {
   "cell_type": "code",
   "execution_count": 127,
   "metadata": {},
   "outputs": [],
   "source": [
    "from sklearn.linear_model import LinearRegression"
   ]
  },
  {
   "cell_type": "code",
   "execution_count": 128,
   "metadata": {
    "collapsed": true
   },
   "outputs": [],
   "source": [
    "reg = LinearRegression()"
   ]
  },
  {
   "cell_type": "code",
   "execution_count": 129,
   "metadata": {},
   "outputs": [
    {
     "data": {
      "text/plain": [
       "LinearRegression(copy_X=True, fit_intercept=True, n_jobs=1, normalize=False)"
      ]
     },
     "execution_count": 129,
     "metadata": {},
     "output_type": "execute_result"
    }
   ],
   "source": [
    "reg.fit(df_train_all[features], df_train_all['Total Sales'])"
   ]
  },
  {
   "cell_type": "code",
   "execution_count": 130,
   "metadata": {},
   "outputs": [
    {
     "data": {
      "text/plain": [
       "0.98834816603953324"
      ]
     },
     "execution_count": 130,
     "metadata": {},
     "output_type": "execute_result"
    }
   ],
   "source": [
    "from sklearn.metrics import r2_score\n",
    "r2_score(reg.predict(df_train_all[features]), df_train_all['Total Sales'])"
   ]
  },
  {
   "cell_type": "code",
   "execution_count": 131,
   "metadata": {
    "collapsed": true
   },
   "outputs": [],
   "source": [
    "# features = ['Land Area',\n",
    "#             '2014 Estimate']"
   ]
  },
  {
   "cell_type": "code",
   "execution_count": 132,
   "metadata": {},
   "outputs": [
    {
     "name": "stderr",
     "output_type": "stream",
     "text": [
      "C:\\ProgramData\\Anaconda2\\lib\\site-packages\\ipykernel\\__main__.py:1: SettingWithCopyWarning: \n",
      "A value is trying to be set on a copy of a slice from a DataFrame.\n",
      "Try using .loc[row_indexer,col_indexer] = value instead\n",
      "\n",
      "See the caveats in the documentation: http://pandas.pydata.org/pandas-docs/stable/indexing.html#indexing-view-versus-copy\n",
      "  if __name__ == '__main__':\n"
     ]
    }
   ],
   "source": [
    "df_possible_cities['2014 Predicted Sales'] = reg.predict(df_possible_cities[features])"
   ]
  },
  {
   "cell_type": "code",
   "execution_count": 135,
   "metadata": {},
   "outputs": [
    {
     "data": {
      "text/html": [
       "<div>\n",
       "<table border=\"1\" class=\"dataframe\">\n",
       "  <thead>\n",
       "    <tr style=\"text-align: right;\">\n",
       "      <th></th>\n",
       "      <th>City</th>\n",
       "      <th>County</th>\n",
       "      <th>Land Area</th>\n",
       "      <th>Households with Under 18</th>\n",
       "      <th>Population Density</th>\n",
       "      <th>Total Families</th>\n",
       "      <th>2000 Census</th>\n",
       "      <th>2010 Census</th>\n",
       "      <th>2014 Estimate</th>\n",
       "      <th>SALES VOLUME</th>\n",
       "      <th>2014 Predicted Sales</th>\n",
       "    </tr>\n",
       "  </thead>\n",
       "  <tbody>\n",
       "    <tr>\n",
       "      <th>3</th>\n",
       "      <td>Laramie</td>\n",
       "      <td>Albany</td>\n",
       "      <td>2513.745235</td>\n",
       "      <td>2075</td>\n",
       "      <td>5.19</td>\n",
       "      <td>4668.93</td>\n",
       "      <td>27204</td>\n",
       "      <td>30816</td>\n",
       "      <td>32081</td>\n",
       "      <td>76000</td>\n",
       "      <td>284772.425873</td>\n",
       "    </tr>\n",
       "  </tbody>\n",
       "</table>\n",
       "</div>"
      ],
      "text/plain": [
       "      City  County    Land Area  Households with Under 18  Population Density  \\\n",
       "3  Laramie  Albany  2513.745235                      2075                5.19   \n",
       "\n",
       "   Total Families 2000 Census 2010 Census  2014 Estimate  SALES VOLUME  \\\n",
       "3         4668.93       27204       30816          32081         76000   \n",
       "\n",
       "   2014 Predicted Sales  \n",
       "3         284772.425873  "
      ]
     },
     "execution_count": 135,
     "metadata": {},
     "output_type": "execute_result"
    }
   ],
   "source": [
    "df_possible_cities.sort_values(by='2014 Predicted Sales', ascending=False).head(1)"
   ]
  },
  {
   "cell_type": "code",
   "execution_count": null,
   "metadata": {
    "collapsed": true
   },
   "outputs": [],
   "source": []
  }
 ],
 "metadata": {
  "kernelspec": {
   "display_name": "Python 3",
   "language": "python",
   "name": "python3"
  },
  "language_info": {
   "codemirror_mode": {
    "name": "ipython",
    "version": 3
   },
   "file_extension": ".py",
   "mimetype": "text/x-python",
   "name": "python",
   "nbconvert_exporter": "python",
   "pygments_lexer": "ipython3",
   "version": "3.6.1"
  }
 },
 "nbformat": 4,
 "nbformat_minor": 2
}

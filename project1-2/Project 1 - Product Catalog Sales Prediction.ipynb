{
 "cells": [
  {
   "cell_type": "code",
   "execution_count": 5,
   "metadata": {
    "collapsed": true
   },
   "outputs": [],
   "source": [
    "import numpy as np\n",
    "import pandas as pd\n",
    "from sklearn.linear_model import LinearRegression"
   ]
  },
  {
   "cell_type": "code",
   "execution_count": 6,
   "metadata": {
    "collapsed": true
   },
   "outputs": [],
   "source": [
    "df = pd.read_excel('p1-customers.xlsx')"
   ]
  },
  {
   "cell_type": "code",
   "execution_count": 7,
   "metadata": {
    "collapsed": false
   },
   "outputs": [],
   "source": [
    "df = df.join(pd.get_dummies(df['Customer_Segment']))"
   ]
  },
  {
   "cell_type": "code",
   "execution_count": 9,
   "metadata": {
    "collapsed": false
   },
   "outputs": [
    {
     "name": "stdout",
     "output_type": "stream",
     "text": [
      "{1: u'Store Mailing List', 2: u'Loyalty Club and Credit Card', 3: u'Loyalty Club Only', 4: u'Credit Card Only'}\n",
      "{1: 'Store Mailing List', 2: 'Loyalty Club Only', 3: 'Credit Card Only', 4: 'Loyalty Club and Credit Card'}\n"
     ]
    }
   ],
   "source": [
    "customer_segment_map = dict()\n",
    "i = 1\n",
    "for entry in pd.unique(df['Customer_Segment']):\n",
    "    customer_segment_map[i] = entry\n",
    "    i += 1\n",
    "print customer_segment_map\n",
    "\n",
    "customer_segment_map[1] = 'Store Mailing List'\n",
    "customer_segment_map[2] = 'Loyalty Club Only'\n",
    "customer_segment_map[3] = 'Credit Card Only'\n",
    "customer_segment_map[4] = 'Loyalty Club and Credit Card'\n",
    "\n",
    "print customer_segment_map"
   ]
  },
  {
   "cell_type": "code",
   "execution_count": 10,
   "metadata": {
    "collapsed": false
   },
   "outputs": [
    {
     "data": {
      "text/html": [
       "<div>\n",
       "<table border=\"1\" class=\"dataframe\">\n",
       "  <thead>\n",
       "    <tr style=\"text-align: right;\">\n",
       "      <th></th>\n",
       "      <th>Name</th>\n",
       "      <th>Customer_Segment</th>\n",
       "      <th>Customer_ID</th>\n",
       "      <th>Address</th>\n",
       "      <th>City</th>\n",
       "      <th>State</th>\n",
       "      <th>ZIP</th>\n",
       "      <th>Avg_Sale_Amount</th>\n",
       "      <th>Store_Number</th>\n",
       "      <th>Responded_to_Last_Catalog</th>\n",
       "      <th>Avg_Num_Products_Purchased</th>\n",
       "      <th>#_Years_as_Customer</th>\n",
       "      <th>Credit Card Only</th>\n",
       "      <th>Loyalty Club Only</th>\n",
       "      <th>Loyalty Club and Credit Card</th>\n",
       "      <th>Store Mailing List</th>\n",
       "    </tr>\n",
       "  </thead>\n",
       "  <tbody>\n",
       "    <tr>\n",
       "      <th>0</th>\n",
       "      <td>Pamela Wright</td>\n",
       "      <td>Store Mailing List</td>\n",
       "      <td>2</td>\n",
       "      <td>376 S Jasmine St</td>\n",
       "      <td>Denver</td>\n",
       "      <td>CO</td>\n",
       "      <td>80224</td>\n",
       "      <td>227.90</td>\n",
       "      <td>100</td>\n",
       "      <td>0</td>\n",
       "      <td>1</td>\n",
       "      <td>6</td>\n",
       "      <td>0</td>\n",
       "      <td>0</td>\n",
       "      <td>0</td>\n",
       "      <td>1</td>\n",
       "    </tr>\n",
       "    <tr>\n",
       "      <th>1</th>\n",
       "      <td>Danell Valdez</td>\n",
       "      <td>Store Mailing List</td>\n",
       "      <td>7</td>\n",
       "      <td>12066 E Lake Cir</td>\n",
       "      <td>Greenwood Village</td>\n",
       "      <td>CO</td>\n",
       "      <td>80111</td>\n",
       "      <td>55.00</td>\n",
       "      <td>105</td>\n",
       "      <td>1</td>\n",
       "      <td>1</td>\n",
       "      <td>6</td>\n",
       "      <td>0</td>\n",
       "      <td>0</td>\n",
       "      <td>0</td>\n",
       "      <td>1</td>\n",
       "    </tr>\n",
       "    <tr>\n",
       "      <th>2</th>\n",
       "      <td>Jessica Rinehart</td>\n",
       "      <td>Store Mailing List</td>\n",
       "      <td>8</td>\n",
       "      <td>7225 S Gaylord St</td>\n",
       "      <td>Centennial</td>\n",
       "      <td>CO</td>\n",
       "      <td>80122</td>\n",
       "      <td>212.57</td>\n",
       "      <td>101</td>\n",
       "      <td>0</td>\n",
       "      <td>1</td>\n",
       "      <td>3</td>\n",
       "      <td>0</td>\n",
       "      <td>0</td>\n",
       "      <td>0</td>\n",
       "      <td>1</td>\n",
       "    </tr>\n",
       "    <tr>\n",
       "      <th>3</th>\n",
       "      <td>Nancy Clark</td>\n",
       "      <td>Store Mailing List</td>\n",
       "      <td>9</td>\n",
       "      <td>4497 Cornish Way</td>\n",
       "      <td>Denver</td>\n",
       "      <td>CO</td>\n",
       "      <td>80239</td>\n",
       "      <td>195.31</td>\n",
       "      <td>105</td>\n",
       "      <td>1</td>\n",
       "      <td>1</td>\n",
       "      <td>6</td>\n",
       "      <td>0</td>\n",
       "      <td>0</td>\n",
       "      <td>0</td>\n",
       "      <td>1</td>\n",
       "    </tr>\n",
       "    <tr>\n",
       "      <th>4</th>\n",
       "      <td>Andrea Brun</td>\n",
       "      <td>Store Mailing List</td>\n",
       "      <td>10</td>\n",
       "      <td>2316 E 5th Ave</td>\n",
       "      <td>Denver</td>\n",
       "      <td>CO</td>\n",
       "      <td>80206</td>\n",
       "      <td>110.55</td>\n",
       "      <td>100</td>\n",
       "      <td>1</td>\n",
       "      <td>1</td>\n",
       "      <td>2</td>\n",
       "      <td>0</td>\n",
       "      <td>0</td>\n",
       "      <td>0</td>\n",
       "      <td>1</td>\n",
       "    </tr>\n",
       "  </tbody>\n",
       "</table>\n",
       "</div>"
      ],
      "text/plain": [
       "               Name    Customer_Segment  Customer_ID            Address  \\\n",
       "0     Pamela Wright  Store Mailing List            2   376 S Jasmine St   \n",
       "1     Danell Valdez  Store Mailing List            7   12066 E Lake Cir   \n",
       "2  Jessica Rinehart  Store Mailing List            8  7225 S Gaylord St   \n",
       "3       Nancy Clark  Store Mailing List            9   4497 Cornish Way   \n",
       "4       Andrea Brun  Store Mailing List           10     2316 E 5th Ave   \n",
       "\n",
       "                City State    ZIP  Avg_Sale_Amount  Store_Number  \\\n",
       "0             Denver    CO  80224           227.90           100   \n",
       "1  Greenwood Village    CO  80111            55.00           105   \n",
       "2         Centennial    CO  80122           212.57           101   \n",
       "3             Denver    CO  80239           195.31           105   \n",
       "4             Denver    CO  80206           110.55           100   \n",
       "\n",
       "   Responded_to_Last_Catalog  Avg_Num_Products_Purchased  #_Years_as_Customer  \\\n",
       "0                          0                           1                    6   \n",
       "1                          1                           1                    6   \n",
       "2                          0                           1                    3   \n",
       "3                          1                           1                    6   \n",
       "4                          1                           1                    2   \n",
       "\n",
       "   Credit Card Only  Loyalty Club Only  Loyalty Club and Credit Card  \\\n",
       "0                 0                  0                             0   \n",
       "1                 0                  0                             0   \n",
       "2                 0                  0                             0   \n",
       "3                 0                  0                             0   \n",
       "4                 0                  0                             0   \n",
       "\n",
       "   Store Mailing List  \n",
       "0                   1  \n",
       "1                   1  \n",
       "2                   1  \n",
       "3                   1  \n",
       "4                   1  "
      ]
     },
     "execution_count": 10,
     "metadata": {},
     "output_type": "execute_result"
    }
   ],
   "source": [
    "# Replace Customer_Segment with mapped number\n",
    "# df['Customer_Segment'] = df['Customer_Segment'].apply(lambda x: customer_segment_map.keys()[customer_segment_map.values().index(x)])\n",
    "df['Responded_to_Last_Catalog'] = df['Responded_to_Last_Catalog'].apply(lambda x: 1 if x == 'Yes' else 0)\n",
    "df.head()"
   ]
  },
  {
   "cell_type": "code",
   "execution_count": 26,
   "metadata": {
    "collapsed": true
   },
   "outputs": [],
   "source": [
    "feature_names = ['Credit Card Only', \n",
    "               'Loyalty Club Only',\n",
    "               'Loyalty Club and Credit Card',\n",
    "               'Avg_Num_Products_Purchased', \n",
    "               '#_Years_as_Customer', \n",
    "               'Responded_to_Last_Catalog']\n",
    "features = df[feature_names]\n",
    "labels = df['Avg_Sale_Amount']"
   ]
  },
  {
   "cell_type": "code",
   "execution_count": 27,
   "metadata": {
    "collapsed": false
   },
   "outputs": [],
   "source": [
    "from sklearn.model_selection import train_test_split\n",
    "X_train, X_test, y_train, y_test = train_test_split(features, labels, test_size=0.3, random_state=42)"
   ]
  },
  {
   "cell_type": "code",
   "execution_count": 28,
   "metadata": {
    "collapsed": false
   },
   "outputs": [
    {
     "data": {
      "text/plain": [
       "LinearRegression(copy_X=True, fit_intercept=True, n_jobs=1, normalize=False)"
      ]
     },
     "execution_count": 28,
     "metadata": {},
     "output_type": "execute_result"
    }
   ],
   "source": [
    "reg = LinearRegression()\n",
    "reg.fit(X_train, y_train)"
   ]
  },
  {
   "cell_type": "code",
   "execution_count": 29,
   "metadata": {
    "collapsed": false
   },
   "outputs": [],
   "source": [
    "y_pred = reg.predict(X_test)"
   ]
  },
  {
   "cell_type": "code",
   "execution_count": 30,
   "metadata": {
    "collapsed": false
   },
   "outputs": [
    {
     "name": "stdout",
     "output_type": "stream",
     "text": [
      "0.830400384709\n"
     ]
    }
   ],
   "source": [
    "from sklearn.metrics import r2_score\n",
    "print r2_score(y_test, y_pred)"
   ]
  },
  {
   "cell_type": "code",
   "execution_count": 31,
   "metadata": {
    "collapsed": false
   },
   "outputs": [
    {
     "data": {
      "text/plain": [
       "0.83040038470863442"
      ]
     },
     "execution_count": 31,
     "metadata": {},
     "output_type": "execute_result"
    }
   ],
   "source": [
    "r2_score(y_test, y_pred, multioutput='variance_weighted')"
   ]
  },
  {
   "cell_type": "code",
   "execution_count": 33,
   "metadata": {
    "collapsed": false
   },
   "outputs": [
    {
     "name": "stdout",
     "output_type": "stream",
     "text": [
      "('Coefficients: \\n', array([ 242.14922879,   88.42774868,  528.38848785,   69.10466695,\n",
      "         -1.63527846,  -28.92128404]))\n",
      "Mean squared error: 17168.66\n",
      "Variance score: 0.83\n"
     ]
    },
    {
     "data": {
      "image/png": "[encoded data removed]",
      "text/plain": [
       "<matplotlib.figure.Figure at 0xe6cd748>"
      ]
     },
     "metadata": {},
     "output_type": "display_data"
    }
   ],
   "source": [
    "# Print and plot results\n",
    "import matplotlib.pyplot as plt\n",
    "%matplotlib inline\n",
    "\n",
    "# The coefficients\n",
    "print('Coefficients: \\n', reg.coef_)\n",
    "# The mean squared error\n",
    "print(\"Mean squared error: %.2f\"\n",
    "      % np.mean((reg.predict(X_test) - y_test) ** 2))\n",
    "# Explained variance score: 1 is perfect prediction\n",
    "print('Variance score: %.2f' % reg.score(X_test, y_test))\n",
    "\n",
    "# Plot outputs\n",
    "plt.scatter(X_test['Avg_Num_Products_Purchased'], y_test,  color='black')\n",
    "plt.scatter(X_test['Avg_Num_Products_Purchased'], reg.predict(X_test), color='blue')\n",
    "\n",
    "plt.xticks(())\n",
    "plt.yticks(())\n",
    "\n",
    "plt.show()"
   ]
  },
  {
   "cell_type": "code",
   "execution_count": null,
   "metadata": {
    "collapsed": true
   },
   "outputs": [],
   "source": []
  },
  {
   "cell_type": "code",
   "execution_count": 34,
   "metadata": {
    "collapsed": false
   },
   "outputs": [
    {
     "data": {
      "text/html": [
       "<div>\n",
       "<table border=\"1\" class=\"dataframe\">\n",
       "  <thead>\n",
       "    <tr style=\"text-align: right;\">\n",
       "      <th></th>\n",
       "      <th>Name</th>\n",
       "      <th>Customer_Segment</th>\n",
       "      <th>Customer_ID</th>\n",
       "      <th>Address</th>\n",
       "      <th>City</th>\n",
       "      <th>State</th>\n",
       "      <th>ZIP</th>\n",
       "      <th>Store_Number</th>\n",
       "      <th>Avg_Num_Products_Purchased</th>\n",
       "      <th>#_Years_as_Customer</th>\n",
       "      <th>Score_No</th>\n",
       "      <th>Score_Yes</th>\n",
       "      <th>Credit Card Only</th>\n",
       "      <th>Loyalty Club Only</th>\n",
       "      <th>Loyalty Club and Credit Card</th>\n",
       "      <th>Store Mailing List</th>\n",
       "    </tr>\n",
       "  </thead>\n",
       "  <tbody>\n",
       "    <tr>\n",
       "      <th>0</th>\n",
       "      <td>A Giametti</td>\n",
       "      <td>Loyalty Club Only</td>\n",
       "      <td>2213</td>\n",
       "      <td>5326 S Lisbon Way</td>\n",
       "      <td>Centennial</td>\n",
       "      <td>CO</td>\n",
       "      <td>80015</td>\n",
       "      <td>105</td>\n",
       "      <td>3</td>\n",
       "      <td>0.2</td>\n",
       "      <td>0.694964</td>\n",
       "      <td>0.305036</td>\n",
       "      <td>0</td>\n",
       "      <td>1</td>\n",
       "      <td>0</td>\n",
       "      <td>0</td>\n",
       "    </tr>\n",
       "    <tr>\n",
       "      <th>1</th>\n",
       "      <td>Abby Pierson</td>\n",
       "      <td>Loyalty Club and Credit Card</td>\n",
       "      <td>2785</td>\n",
       "      <td>4344 W Roanoke Pl</td>\n",
       "      <td>Denver</td>\n",
       "      <td>CO</td>\n",
       "      <td>80236</td>\n",
       "      <td>101</td>\n",
       "      <td>6</td>\n",
       "      <td>0.6</td>\n",
       "      <td>0.527275</td>\n",
       "      <td>0.472725</td>\n",
       "      <td>0</td>\n",
       "      <td>0</td>\n",
       "      <td>1</td>\n",
       "      <td>0</td>\n",
       "    </tr>\n",
       "    <tr>\n",
       "      <th>2</th>\n",
       "      <td>Adele Hallman</td>\n",
       "      <td>Loyalty Club Only</td>\n",
       "      <td>2931</td>\n",
       "      <td>5219 S Delaware St</td>\n",
       "      <td>Englewood</td>\n",
       "      <td>CO</td>\n",
       "      <td>80110</td>\n",
       "      <td>101</td>\n",
       "      <td>7</td>\n",
       "      <td>0.9</td>\n",
       "      <td>0.421118</td>\n",
       "      <td>0.578882</td>\n",
       "      <td>0</td>\n",
       "      <td>1</td>\n",
       "      <td>0</td>\n",
       "      <td>0</td>\n",
       "    </tr>\n",
       "    <tr>\n",
       "      <th>3</th>\n",
       "      <td>Alejandra Baird</td>\n",
       "      <td>Loyalty Club Only</td>\n",
       "      <td>2231</td>\n",
       "      <td>2301 Lawrence St</td>\n",
       "      <td>Denver</td>\n",
       "      <td>CO</td>\n",
       "      <td>80205</td>\n",
       "      <td>103</td>\n",
       "      <td>2</td>\n",
       "      <td>0.6</td>\n",
       "      <td>0.694862</td>\n",
       "      <td>0.305138</td>\n",
       "      <td>0</td>\n",
       "      <td>1</td>\n",
       "      <td>0</td>\n",
       "      <td>0</td>\n",
       "    </tr>\n",
       "    <tr>\n",
       "      <th>4</th>\n",
       "      <td>Alice Dewitt</td>\n",
       "      <td>Loyalty Club Only</td>\n",
       "      <td>2530</td>\n",
       "      <td>5549 S Hannibal Way</td>\n",
       "      <td>Centennial</td>\n",
       "      <td>CO</td>\n",
       "      <td>80015</td>\n",
       "      <td>104</td>\n",
       "      <td>4</td>\n",
       "      <td>0.5</td>\n",
       "      <td>0.612294</td>\n",
       "      <td>0.387706</td>\n",
       "      <td>0</td>\n",
       "      <td>1</td>\n",
       "      <td>0</td>\n",
       "      <td>0</td>\n",
       "    </tr>\n",
       "  </tbody>\n",
       "</table>\n",
       "</div>"
      ],
      "text/plain": [
       "              Name              Customer_Segment  Customer_ID  \\\n",
       "0       A Giametti             Loyalty Club Only         2213   \n",
       "1     Abby Pierson  Loyalty Club and Credit Card         2785   \n",
       "2    Adele Hallman             Loyalty Club Only         2931   \n",
       "3  Alejandra Baird             Loyalty Club Only         2231   \n",
       "4     Alice Dewitt             Loyalty Club Only         2530   \n",
       "\n",
       "               Address        City State    ZIP  Store_Number  \\\n",
       "0    5326 S Lisbon Way  Centennial    CO  80015           105   \n",
       "1    4344 W Roanoke Pl      Denver    CO  80236           101   \n",
       "2   5219 S Delaware St   Englewood    CO  80110           101   \n",
       "3     2301 Lawrence St      Denver    CO  80205           103   \n",
       "4  5549 S Hannibal Way  Centennial    CO  80015           104   \n",
       "\n",
       "   Avg_Num_Products_Purchased  #_Years_as_Customer  Score_No  Score_Yes  \\\n",
       "0                           3                  0.2  0.694964   0.305036   \n",
       "1                           6                  0.6  0.527275   0.472725   \n",
       "2                           7                  0.9  0.421118   0.578882   \n",
       "3                           2                  0.6  0.694862   0.305138   \n",
       "4                           4                  0.5  0.612294   0.387706   \n",
       "\n",
       "   Credit Card Only  Loyalty Club Only  Loyalty Club and Credit Card  \\\n",
       "0                 0                  1                             0   \n",
       "1                 0                  0                             1   \n",
       "2                 0                  1                             0   \n",
       "3                 0                  1                             0   \n",
       "4                 0                  1                             0   \n",
       "\n",
       "   Store Mailing List  \n",
       "0                   0  \n",
       "1                   0  \n",
       "2                   0  \n",
       "3                   0  \n",
       "4                   0  "
      ]
     },
     "execution_count": 34,
     "metadata": {},
     "output_type": "execute_result"
    }
   ],
   "source": [
    "df_mailing_list = pd.read_excel('p1-mailinglist.xlsx')\n",
    "df_mailing_list = df_mailing_list.join(pd.get_dummies(df_mailing_list['Customer_Segment']))\n",
    "df_mailing_list.head()"
   ]
  },
  {
   "cell_type": "code",
   "execution_count": 35,
   "metadata": {
    "collapsed": false
   },
   "outputs": [],
   "source": [
    "feature_names = ['Credit Card Only', \n",
    "               'Loyalty Club Only',\n",
    "               'Loyalty Club and Credit Card',\n",
    "               'Avg_Num_Products_Purchased', \n",
    "               '#_Years_as_Customer', \n",
    "               'Score_Yes']"
   ]
  },
  {
   "cell_type": "code",
   "execution_count": 36,
   "metadata": {
    "collapsed": true
   },
   "outputs": [],
   "source": [
    "df_mailing_list['Predicted_Average_Sale_Amount'] = reg.predict(df_mailing_list[feature_names])"
   ]
  },
  {
   "cell_type": "code",
   "execution_count": 37,
   "metadata": {
    "collapsed": false
   },
   "outputs": [
    {
     "data": {
      "text/html": [
       "<div>\n",
       "<table border=\"1\" class=\"dataframe\">\n",
       "  <thead>\n",
       "    <tr style=\"text-align: right;\">\n",
       "      <th></th>\n",
       "      <th>Name</th>\n",
       "      <th>Customer_Segment</th>\n",
       "      <th>Customer_ID</th>\n",
       "      <th>Address</th>\n",
       "      <th>City</th>\n",
       "      <th>State</th>\n",
       "      <th>ZIP</th>\n",
       "      <th>Store_Number</th>\n",
       "      <th>Avg_Num_Products_Purchased</th>\n",
       "      <th>#_Years_as_Customer</th>\n",
       "      <th>Score_No</th>\n",
       "      <th>Score_Yes</th>\n",
       "      <th>Credit Card Only</th>\n",
       "      <th>Loyalty Club Only</th>\n",
       "      <th>Loyalty Club and Credit Card</th>\n",
       "      <th>Store Mailing List</th>\n",
       "      <th>Predicted_Average_Sale_Amount</th>\n",
       "    </tr>\n",
       "  </thead>\n",
       "  <tbody>\n",
       "    <tr>\n",
       "      <th>0</th>\n",
       "      <td>A Giametti</td>\n",
       "      <td>Loyalty Club Only</td>\n",
       "      <td>2213</td>\n",
       "      <td>5326 S Lisbon Way</td>\n",
       "      <td>Centennial</td>\n",
       "      <td>CO</td>\n",
       "      <td>80015</td>\n",
       "      <td>105</td>\n",
       "      <td>3</td>\n",
       "      <td>0.2</td>\n",
       "      <td>0.694964</td>\n",
       "      <td>0.305036</td>\n",
       "      <td>0</td>\n",
       "      <td>1</td>\n",
       "      <td>0</td>\n",
       "      <td>0</td>\n",
       "      <td>350.371439</td>\n",
       "    </tr>\n",
       "    <tr>\n",
       "      <th>1</th>\n",
       "      <td>Abby Pierson</td>\n",
       "      <td>Loyalty Club and Credit Card</td>\n",
       "      <td>2785</td>\n",
       "      <td>4344 W Roanoke Pl</td>\n",
       "      <td>Denver</td>\n",
       "      <td>CO</td>\n",
       "      <td>80236</td>\n",
       "      <td>101</td>\n",
       "      <td>6</td>\n",
       "      <td>0.6</td>\n",
       "      <td>0.527275</td>\n",
       "      <td>0.472725</td>\n",
       "      <td>0</td>\n",
       "      <td>0</td>\n",
       "      <td>1</td>\n",
       "      <td>0</td>\n",
       "      <td>992.142294</td>\n",
       "    </tr>\n",
       "    <tr>\n",
       "      <th>2</th>\n",
       "      <td>Adele Hallman</td>\n",
       "      <td>Loyalty Club Only</td>\n",
       "      <td>2931</td>\n",
       "      <td>5219 S Delaware St</td>\n",
       "      <td>Englewood</td>\n",
       "      <td>CO</td>\n",
       "      <td>80110</td>\n",
       "      <td>101</td>\n",
       "      <td>7</td>\n",
       "      <td>0.9</td>\n",
       "      <td>0.421118</td>\n",
       "      <td>0.578882</td>\n",
       "      <td>0</td>\n",
       "      <td>1</td>\n",
       "      <td>0</td>\n",
       "      <td>0</td>\n",
       "      <td>617.725433</td>\n",
       "    </tr>\n",
       "    <tr>\n",
       "      <th>3</th>\n",
       "      <td>Alejandra Baird</td>\n",
       "      <td>Loyalty Club Only</td>\n",
       "      <td>2231</td>\n",
       "      <td>2301 Lawrence St</td>\n",
       "      <td>Denver</td>\n",
       "      <td>CO</td>\n",
       "      <td>80205</td>\n",
       "      <td>103</td>\n",
       "      <td>2</td>\n",
       "      <td>0.6</td>\n",
       "      <td>0.694862</td>\n",
       "      <td>0.305138</td>\n",
       "      <td>0</td>\n",
       "      <td>1</td>\n",
       "      <td>0</td>\n",
       "      <td>0</td>\n",
       "      <td>280.609710</td>\n",
       "    </tr>\n",
       "    <tr>\n",
       "      <th>4</th>\n",
       "      <td>Alice Dewitt</td>\n",
       "      <td>Loyalty Club Only</td>\n",
       "      <td>2530</td>\n",
       "      <td>5549 S Hannibal Way</td>\n",
       "      <td>Centennial</td>\n",
       "      <td>CO</td>\n",
       "      <td>80015</td>\n",
       "      <td>104</td>\n",
       "      <td>4</td>\n",
       "      <td>0.5</td>\n",
       "      <td>0.612294</td>\n",
       "      <td>0.387706</td>\n",
       "      <td>0</td>\n",
       "      <td>1</td>\n",
       "      <td>0</td>\n",
       "      <td>0</td>\n",
       "      <td>416.594598</td>\n",
       "    </tr>\n",
       "  </tbody>\n",
       "</table>\n",
       "</div>"
      ],
      "text/plain": [
       "              Name              Customer_Segment  Customer_ID  \\\n",
       "0       A Giametti             Loyalty Club Only         2213   \n",
       "1     Abby Pierson  Loyalty Club and Credit Card         2785   \n",
       "2    Adele Hallman             Loyalty Club Only         2931   \n",
       "3  Alejandra Baird             Loyalty Club Only         2231   \n",
       "4     Alice Dewitt             Loyalty Club Only         2530   \n",
       "\n",
       "               Address        City State    ZIP  Store_Number  \\\n",
       "0    5326 S Lisbon Way  Centennial    CO  80015           105   \n",
       "1    4344 W Roanoke Pl      Denver    CO  80236           101   \n",
       "2   5219 S Delaware St   Englewood    CO  80110           101   \n",
       "3     2301 Lawrence St      Denver    CO  80205           103   \n",
       "4  5549 S Hannibal Way  Centennial    CO  80015           104   \n",
       "\n",
       "   Avg_Num_Products_Purchased  #_Years_as_Customer  Score_No  Score_Yes  \\\n",
       "0                           3                  0.2  0.694964   0.305036   \n",
       "1                           6                  0.6  0.527275   0.472725   \n",
       "2                           7                  0.9  0.421118   0.578882   \n",
       "3                           2                  0.6  0.694862   0.305138   \n",
       "4                           4                  0.5  0.612294   0.387706   \n",
       "\n",
       "   Credit Card Only  Loyalty Club Only  Loyalty Club and Credit Card  \\\n",
       "0                 0                  1                             0   \n",
       "1                 0                  0                             1   \n",
       "2                 0                  1                             0   \n",
       "3                 0                  1                             0   \n",
       "4                 0                  1                             0   \n",
       "\n",
       "   Store Mailing List  Predicted_Average_Sale_Amount  \n",
       "0                   0                     350.371439  \n",
       "1                   0                     992.142294  \n",
       "2                   0                     617.725433  \n",
       "3                   0                     280.609710  \n",
       "4                   0                     416.594598  "
      ]
     },
     "execution_count": 37,
     "metadata": {},
     "output_type": "execute_result"
    }
   ],
   "source": [
    "df_mailing_list.head()"
   ]
  },
  {
   "cell_type": "code",
   "execution_count": 38,
   "metadata": {
    "collapsed": false
   },
   "outputs": [
    {
     "data": {
      "text/plain": [
       "<matplotlib.collections.PathCollection at 0xc5fe9e8>"
      ]
     },
     "execution_count": 38,
     "metadata": {},
     "output_type": "execute_result"
    },
    {
     "data": {
      "image/png": "[encoded data removed]",
      "text/plain": [
       "<matplotlib.figure.Figure at 0xea8d978>"
      ]
     },
     "metadata": {},
     "output_type": "display_data"
    }
   ],
   "source": [
    "plt.figure()\n",
    "plt.scatter(df['Avg_Num_Products_Purchased'], df['Avg_Sale_Amount'], color='black', alpha=0.5)\n",
    "plt.scatter(df_mailing_list['Avg_Num_Products_Purchased'], df_mailing_list['Predicted_Average_Sale_Amount'], color='red', alpha=0.5)"
   ]
  },
  {
   "cell_type": "code",
   "execution_count": 39,
   "metadata": {
    "collapsed": false
   },
   "outputs": [
    {
     "data": {
      "text/plain": [
       "<matplotlib.collections.PathCollection at 0xc40c748>"
      ]
     },
     "execution_count": 39,
     "metadata": {},
     "output_type": "execute_result"
    },
    {
     "data": {
      "image/png": "[encoded data removed]",
      "text/plain": [
       "<matplotlib.figure.Figure at 0xeb6ea90>"
      ]
     },
     "metadata": {},
     "output_type": "display_data"
    }
   ],
   "source": [
    "plt.figure()\n",
    "plt.scatter(df['ZIP'], df['Avg_Sale_Amount'], color='black', alpha=0.5)\n",
    "plt.scatter(df_mailing_list['ZIP'], df_mailing_list['Predicted_Average_Sale_Amount'], color='red', alpha=0.5)"
   ]
  },
  {
   "cell_type": "code",
   "execution_count": 40,
   "metadata": {
    "collapsed": false
   },
   "outputs": [
    {
     "data": {
      "text/plain": [
       "<matplotlib.collections.PathCollection at 0xc410198>"
      ]
     },
     "execution_count": 40,
     "metadata": {},
     "output_type": "execute_result"
    },
    {
     "data": {
      "image/png": "[encoded data removed]",
      "text/plain": [
       "<matplotlib.figure.Figure at 0xc6b4860>"
      ]
     },
     "metadata": {},
     "output_type": "display_data"
    }
   ],
   "source": [
    "plt.figure()\n",
    "plt.scatter(df['#_Years_as_Customer'], df['Avg_Sale_Amount'], color='black', alpha=0.5)\n",
    "plt.scatter(df_mailing_list['#_Years_as_Customer'], df_mailing_list['Predicted_Average_Sale_Amount'], color='red', alpha=0.5)"
   ]
  },
  {
   "cell_type": "code",
   "execution_count": 41,
   "metadata": {
    "collapsed": false
   },
   "outputs": [
    {
     "data": {
      "text/plain": [
       "<matplotlib.collections.PathCollection at 0xc3c9b70>"
      ]
     },
     "execution_count": 41,
     "metadata": {},
     "output_type": "execute_result"
    },
    {
     "data": {
      "image/png": "[encoded data removed]",
      "text/plain": [
       "<matplotlib.figure.Figure at 0xc4eaba8>"
      ]
     },
     "metadata": {},
     "output_type": "display_data"
    }
   ],
   "source": [
    "plt.figure()\n",
    "plt.scatter(df['Responded_to_Last_Catalog'], df['Avg_Sale_Amount'], color='black', alpha=0.5)\n",
    "plt.scatter(df_mailing_list['Score_Yes'], df_mailing_list['Predicted_Average_Sale_Amount'], color='red', alpha=0.5)"
   ]
  },
  {
   "cell_type": "code",
   "execution_count": 42,
   "metadata": {
    "collapsed": true
   },
   "outputs": [],
   "source": [
    "df_mailing_list['Predicted_Revenue'] = df_mailing_list['Predicted_Average_Sale_Amount']*df_mailing_list['Score_Yes']"
   ]
  },
  {
   "cell_type": "code",
   "execution_count": 43,
   "metadata": {
    "collapsed": false
   },
   "outputs": [
    {
     "data": {
      "text/html": [
       "<div>\n",
       "<table border=\"1\" class=\"dataframe\">\n",
       "  <thead>\n",
       "    <tr style=\"text-align: right;\">\n",
       "      <th></th>\n",
       "      <th>Name</th>\n",
       "      <th>Customer_Segment</th>\n",
       "      <th>Customer_ID</th>\n",
       "      <th>Address</th>\n",
       "      <th>City</th>\n",
       "      <th>State</th>\n",
       "      <th>ZIP</th>\n",
       "      <th>Store_Number</th>\n",
       "      <th>Avg_Num_Products_Purchased</th>\n",
       "      <th>#_Years_as_Customer</th>\n",
       "      <th>Score_No</th>\n",
       "      <th>Score_Yes</th>\n",
       "      <th>Credit Card Only</th>\n",
       "      <th>Loyalty Club Only</th>\n",
       "      <th>Loyalty Club and Credit Card</th>\n",
       "      <th>Store Mailing List</th>\n",
       "      <th>Predicted_Average_Sale_Amount</th>\n",
       "      <th>Predicted_Revenue</th>\n",
       "    </tr>\n",
       "  </thead>\n",
       "  <tbody>\n",
       "    <tr>\n",
       "      <th>0</th>\n",
       "      <td>A Giametti</td>\n",
       "      <td>Loyalty Club Only</td>\n",
       "      <td>2213</td>\n",
       "      <td>5326 S Lisbon Way</td>\n",
       "      <td>Centennial</td>\n",
       "      <td>CO</td>\n",
       "      <td>80015</td>\n",
       "      <td>105</td>\n",
       "      <td>3</td>\n",
       "      <td>0.2</td>\n",
       "      <td>0.694964</td>\n",
       "      <td>0.305036</td>\n",
       "      <td>0</td>\n",
       "      <td>1</td>\n",
       "      <td>0</td>\n",
       "      <td>0</td>\n",
       "      <td>350.371439</td>\n",
       "      <td>106.875835</td>\n",
       "    </tr>\n",
       "    <tr>\n",
       "      <th>1</th>\n",
       "      <td>Abby Pierson</td>\n",
       "      <td>Loyalty Club and Credit Card</td>\n",
       "      <td>2785</td>\n",
       "      <td>4344 W Roanoke Pl</td>\n",
       "      <td>Denver</td>\n",
       "      <td>CO</td>\n",
       "      <td>80236</td>\n",
       "      <td>101</td>\n",
       "      <td>6</td>\n",
       "      <td>0.6</td>\n",
       "      <td>0.527275</td>\n",
       "      <td>0.472725</td>\n",
       "      <td>0</td>\n",
       "      <td>0</td>\n",
       "      <td>1</td>\n",
       "      <td>0</td>\n",
       "      <td>992.142294</td>\n",
       "      <td>469.010007</td>\n",
       "    </tr>\n",
       "    <tr>\n",
       "      <th>2</th>\n",
       "      <td>Adele Hallman</td>\n",
       "      <td>Loyalty Club Only</td>\n",
       "      <td>2931</td>\n",
       "      <td>5219 S Delaware St</td>\n",
       "      <td>Englewood</td>\n",
       "      <td>CO</td>\n",
       "      <td>80110</td>\n",
       "      <td>101</td>\n",
       "      <td>7</td>\n",
       "      <td>0.9</td>\n",
       "      <td>0.421118</td>\n",
       "      <td>0.578882</td>\n",
       "      <td>0</td>\n",
       "      <td>1</td>\n",
       "      <td>0</td>\n",
       "      <td>0</td>\n",
       "      <td>617.725433</td>\n",
       "      <td>357.590041</td>\n",
       "    </tr>\n",
       "    <tr>\n",
       "      <th>3</th>\n",
       "      <td>Alejandra Baird</td>\n",
       "      <td>Loyalty Club Only</td>\n",
       "      <td>2231</td>\n",
       "      <td>2301 Lawrence St</td>\n",
       "      <td>Denver</td>\n",
       "      <td>CO</td>\n",
       "      <td>80205</td>\n",
       "      <td>103</td>\n",
       "      <td>2</td>\n",
       "      <td>0.6</td>\n",
       "      <td>0.694862</td>\n",
       "      <td>0.305138</td>\n",
       "      <td>0</td>\n",
       "      <td>1</td>\n",
       "      <td>0</td>\n",
       "      <td>0</td>\n",
       "      <td>280.609710</td>\n",
       "      <td>85.624633</td>\n",
       "    </tr>\n",
       "    <tr>\n",
       "      <th>4</th>\n",
       "      <td>Alice Dewitt</td>\n",
       "      <td>Loyalty Club Only</td>\n",
       "      <td>2530</td>\n",
       "      <td>5549 S Hannibal Way</td>\n",
       "      <td>Centennial</td>\n",
       "      <td>CO</td>\n",
       "      <td>80015</td>\n",
       "      <td>104</td>\n",
       "      <td>4</td>\n",
       "      <td>0.5</td>\n",
       "      <td>0.612294</td>\n",
       "      <td>0.387706</td>\n",
       "      <td>0</td>\n",
       "      <td>1</td>\n",
       "      <td>0</td>\n",
       "      <td>0</td>\n",
       "      <td>416.594598</td>\n",
       "      <td>161.516165</td>\n",
       "    </tr>\n",
       "  </tbody>\n",
       "</table>\n",
       "</div>"
      ],
      "text/plain": [
       "              Name              Customer_Segment  Customer_ID  \\\n",
       "0       A Giametti             Loyalty Club Only         2213   \n",
       "1     Abby Pierson  Loyalty Club and Credit Card         2785   \n",
       "2    Adele Hallman             Loyalty Club Only         2931   \n",
       "3  Alejandra Baird             Loyalty Club Only         2231   \n",
       "4     Alice Dewitt             Loyalty Club Only         2530   \n",
       "\n",
       "               Address        City State    ZIP  Store_Number  \\\n",
       "0    5326 S Lisbon Way  Centennial    CO  80015           105   \n",
       "1    4344 W Roanoke Pl      Denver    CO  80236           101   \n",
       "2   5219 S Delaware St   Englewood    CO  80110           101   \n",
       "3     2301 Lawrence St      Denver    CO  80205           103   \n",
       "4  5549 S Hannibal Way  Centennial    CO  80015           104   \n",
       "\n",
       "   Avg_Num_Products_Purchased  #_Years_as_Customer  Score_No  Score_Yes  \\\n",
       "0                           3                  0.2  0.694964   0.305036   \n",
       "1                           6                  0.6  0.527275   0.472725   \n",
       "2                           7                  0.9  0.421118   0.578882   \n",
       "3                           2                  0.6  0.694862   0.305138   \n",
       "4                           4                  0.5  0.612294   0.387706   \n",
       "\n",
       "   Credit Card Only  Loyalty Club Only  Loyalty Club and Credit Card  \\\n",
       "0                 0                  1                             0   \n",
       "1                 0                  0                             1   \n",
       "2                 0                  1                             0   \n",
       "3                 0                  1                             0   \n",
       "4                 0                  1                             0   \n",
       "\n",
       "   Store Mailing List  Predicted_Average_Sale_Amount  Predicted_Revenue  \n",
       "0                   0                     350.371439         106.875835  \n",
       "1                   0                     992.142294         469.010007  \n",
       "2                   0                     617.725433         357.590041  \n",
       "3                   0                     280.609710          85.624633  \n",
       "4                   0                     416.594598         161.516165  "
      ]
     },
     "execution_count": 43,
     "metadata": {},
     "output_type": "execute_result"
    }
   ],
   "source": [
    "df_mailing_list.head()"
   ]
  },
  {
   "cell_type": "code",
   "execution_count": 44,
   "metadata": {
    "collapsed": false
   },
   "outputs": [
    {
     "name": "stdout",
     "output_type": "stream",
     "text": [
      "Total Predicted Revenue: $46996.01\n"
     ]
    }
   ],
   "source": [
    "print \"Total Predicted Revenue: ${:0.2f}\".format(np.sum(df_mailing_list['Predicted_Revenue']))"
   ]
  },
  {
   "cell_type": "code",
   "execution_count": null,
   "metadata": {
    "collapsed": true
   },
   "outputs": [],
   "source": []
  }
 ],
 "metadata": {
  "kernelspec": {
   "display_name": "Python 2",
   "language": "python",
   "name": "python2"
  },
  "language_info": {
   "codemirror_mode": {
    "name": "ipython",
    "version": 2
   },
   "file_extension": ".py",
   "mimetype": "text/x-python",
   "name": "python",
   "nbconvert_exporter": "python",
   "pygments_lexer": "ipython2",
   "version": "2.7.13"
  }
 },
 "nbformat": 4,
 "nbformat_minor": 2
}
